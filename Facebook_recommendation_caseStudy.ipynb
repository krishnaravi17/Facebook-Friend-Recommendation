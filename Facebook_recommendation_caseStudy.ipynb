{
  "nbformat": 4,
  "nbformat_minor": 0,
  "metadata": {
    "colab": {
      "name": "Facebook_recommendation_caseStudy.ipynb",
      "version": "0.3.2",
      "provenance": [],
      "collapsed_sections": [
        "16hZ2pFaXA-I"
      ]
    },
    "kernelspec": {
      "name": "python3",
      "display_name": "Python 3"
    }
  },
  "cells": [
    {
      "metadata": {
        "id": "QLSF1aZjkD8k",
        "colab_type": "text"
      },
      "cell_type": "markdown",
      "source": [
        "# Social network Graph Link Prediction - Facebook Challenge"
      ]
    },
    {
      "metadata": {
        "id": "ajUvvRjpkNgZ",
        "colab_type": "text"
      },
      "cell_type": "markdown",
      "source": [
        "### Problem statement: \n",
        "Given a directed social graph, have to predict missing links to recommend users (Link Prediction in graph)"
      ]
    },
    {
      "metadata": {
        "id": "MFHWgdPxkZJ7",
        "colab_type": "text"
      },
      "cell_type": "markdown",
      "source": [
        "### Data Overview\n",
        "Taken data from facebook's recruting challenge on kaggle https://www.kaggle.com/c/FacebookRecruiting  \n",
        "data contains two columns source and destination eac edge in graph \n",
        "    - Data columns (total 2 columns):  \n",
        "    - source_node         int64  \n",
        "    - destination_node    int64  "
      ]
    },
    {
      "metadata": {
        "id": "4ebutu_ekcaH",
        "colab_type": "text"
      },
      "cell_type": "markdown",
      "source": [
        "### Mapping the problem into supervised learning problem:\n",
        "- Generated training samples of good and bad links from given directed graph and for each link got some features like no of followers, is he followed back, page rank, katz score, adar index, some svd fetures of adj matrix, some weight features etc. and trained ml model based on these features to predict link. \n",
        "- Some reference papers and videos :  \n",
        "    - https://www.cs.cornell.edu/home/kleinber/link-pred.pdf\n",
        "    - https://www3.nd.edu/~dial/publications/lichtenwalter2010new.pdf\n",
        "    - https://kaggle2.blob.core.windows.net/forum-message-attachments/2594/supervised_link_prediction.pdf\n",
        "    - https://www.youtube.com/watch?v=2M77Hgy17cg"
      ]
    },
    {
      "metadata": {
        "id": "md_cdi2MkfxP",
        "colab_type": "text"
      },
      "cell_type": "markdown",
      "source": [
        "### Performance metric for supervised learning:  \n",
        "- Both precision and recall is important so F1 score is good choice\n",
        "- Confusion matrix"
      ]
    },
    {
      "metadata": {
        "id": "SLtXvH4jk0QA",
        "colab_type": "text"
      },
      "cell_type": "markdown",
      "source": [
        "## Importing Libraries and Pre Processing"
      ]
    },
    {
      "metadata": {
        "id": "bVvfWOoKj1C6",
        "colab_type": "code",
        "colab": {}
      },
      "cell_type": "code",
      "source": [
        "#Importing Libraries\n",
        "# please do go through this python notebook: \n",
        "import warnings\n",
        "warnings.filterwarnings(\"ignore\")\n",
        "\n",
        "import csv\n",
        "import pandas as pd#pandas to create small dataframes \n",
        "import datetime #Convert to unix time\n",
        "import time #Convert to unix time\n",
        "# if numpy is not installed already : pip3 install numpy\n",
        "import numpy as np#Do aritmetic operations on arrays\n",
        "# matplotlib: used to plot graphs\n",
        "import matplotlib\n",
        "import matplotlib.pylab as plt\n",
        "import seaborn as sns#Plots\n",
        "from matplotlib import rcParams#Size of plots  \n",
        "from sklearn.cluster import MiniBatchKMeans, KMeans#Clustering\n",
        "import math\n",
        "import pickle\n",
        "import os\n",
        "# to install xgboost: pip3 install xgboost\n",
        "import xgboost as xgb\n",
        "\n",
        "import warnings\n",
        "import networkx as nx\n",
        "import pdb\n",
        "import pickle\n",
        "from pandas import read_hdf\n",
        "from pandas import HDFStore,DataFrame\n",
        "from tqdm import tqdm\n",
        "from scipy.sparse.linalg import svds, eigs\n",
        "from sklearn.ensemble import RandomForestClassifier\n",
        "from sklearn.metrics import f1_score\n",
        "import seaborn as sns#Plots\n",
        "import xgboost as xgb\n",
        "from sklearn.metrics import accuracy_score\n",
        "from sklearn.metrics import precision_score\n",
        "from sklearn.metrics import recall_score\n",
        "from sklearn.metrics import f1_score\n",
        "from sklearn.metrics import confusion_matrix"
      ],
      "execution_count": 0,
      "outputs": []
    },
    {
      "metadata": {
        "id": "Ek-l3r1nn9so",
        "colab_type": "code",
        "outputId": "5a8dc450-e9d9-4176-e4e4-e19c810f14a9",
        "colab": {
          "base_uri": "https://localhost:8080/",
          "height": 125
        }
      },
      "cell_type": "code",
      "source": [
        "# Load the Drive helper and mount\n",
        "from google.colab import drive\n",
        "# This will prompt for authorization.\n",
        "drive.mount('/content/drive')"
      ],
      "execution_count": 0,
      "outputs": [
        {
          "output_type": "stream",
          "text": [
            "Go to this URL in a browser: https://accounts.google.com/o/oauth2/auth?client_id=947318989803-6bn6qk8qdgf4n4g3pfee6491hc0brc4i.apps.googleusercontent.com&redirect_uri=urn%3Aietf%3Awg%3Aoauth%3A2.0%3Aoob&scope=email%20https%3A%2F%2Fwww.googleapis.com%2Fauth%2Fdocs.test%20https%3A%2F%2Fwww.googleapis.com%2Fauth%2Fdrive%20https%3A%2F%2Fwww.googleapis.com%2Fauth%2Fdrive.photos.readonly%20https%3A%2F%2Fwww.googleapis.com%2Fauth%2Fpeopleapi.readonly&response_type=code\n",
            "\n",
            "Enter your authorization code:\n",
            "··········\n",
            "Mounted at /content/drive\n"
          ],
          "name": "stdout"
        }
      ]
    },
    {
      "metadata": {
        "id": "gS9wVqsEj1Gi",
        "colab_type": "code",
        "outputId": "497010d1-e9d8-4b26-88d6-89114040d82f",
        "colab": {
          "base_uri": "https://localhost:8080/",
          "height": 158
        }
      },
      "cell_type": "code",
      "source": [
        "%%time\n",
        "#reading graph with filtered file\n",
        "g=nx.read_edgelist('/content/drive/My Drive/Colab Notebooks/data_facebook/facebook_train_woheader.csv',delimiter=',',create_using=nx.DiGraph(),nodetype=int)\n",
        "print(nx.info(g))"
      ],
      "execution_count": 0,
      "outputs": [
        {
          "output_type": "stream",
          "text": [
            "Name: \n",
            "Type: DiGraph\n",
            "Number of nodes: 1862220\n",
            "Number of edges: 9437519\n",
            "Average in degree:   5.0679\n",
            "Average out degree:   5.0679\n",
            "CPU times: user 1min 13s, sys: 4.49 s, total: 1min 17s\n",
            "Wall time: 1min 18s\n"
          ],
          "name": "stdout"
        }
      ]
    },
    {
      "metadata": {
        "id": "__aYvQGEj1KJ",
        "colab_type": "code",
        "outputId": "befccc34-2f4d-4dd7-db19-5c9544ee1e60",
        "colab": {
          "base_uri": "https://localhost:8080/",
          "height": 585
        }
      },
      "cell_type": "code",
      "source": [
        "%%time\n",
        "#Displaying a sub graph with 50 rows\n",
        "\n",
        "pd.read_csv('/content/drive/My Drive/Colab Notebooks/data_facebook/train.csv', nrows=50).to_csv('/content/drive/My Drive/Colab Notebooks/data_facebook/train_woheader_sample.csv',header=False,index=False)\n",
        "    \n",
        "subgraph=nx.read_edgelist('/content/drive/My Drive/Colab Notebooks/data_facebook/train_woheader_sample.csv',delimiter=',',create_using=nx.DiGraph(),nodetype=int)\n",
        "# https://stackoverflow.com/questions/9402255/drawing-a-huge-graph-with-networkx-and-matplotlib\n",
        "\n",
        "pos=nx.spring_layout(subgraph)\n",
        "nx.draw(subgraph,pos,node_color='#A0CBE2',edge_color='#00bb5e',width=1,edge_cmap=plt.cm.Blues,with_labels=True)\n",
        "plt.savefig(\"graph_sample.pdf\")\n",
        "print(nx.info(subgraph))"
      ],
      "execution_count": 0,
      "outputs": [
        {
          "output_type": "stream",
          "text": [
            "Name: \n",
            "Type: DiGraph\n",
            "Number of nodes: 66\n",
            "Number of edges: 50\n",
            "Average in degree:   0.7576\n",
            "Average out degree:   0.7576\n",
            "CPU times: user 366 ms, sys: 113 ms, total: 479 ms\n",
            "Wall time: 946 ms\n"
          ],
          "name": "stdout"
        },
        {
          "output_type": "display_data",
          "data": {
            "image/png": "[encoded data removed]",
            "text/plain": [
              "<Figure size 576x396 with 1 Axes>"
            ]
          },
          "metadata": {
            "tags": []
          }
        }
      ]
    },
    {
      "metadata": {
        "id": "dcP_kQ0yyYi8",
        "colab_type": "text"
      },
      "cell_type": "markdown",
      "source": [
        "## 1. Exploratory Data Analysis"
      ]
    },
    {
      "metadata": {
        "id": "Zuz_ovOmyXfZ",
        "colab_type": "code",
        "outputId": "672ca46d-99a0-44cd-ae60-22882c90e926",
        "colab": {
          "base_uri": "https://localhost:8080/",
          "height": 34
        }
      },
      "cell_type": "code",
      "source": [
        "# No of Unique persons \n",
        "print(\"The number of unique persons\",len(g.nodes()))"
      ],
      "execution_count": 0,
      "outputs": [
        {
          "output_type": "stream",
          "text": [
            "The number of unique persons 1862220\n"
          ],
          "name": "stdout"
        }
      ]
    },
    {
      "metadata": {
        "id": "LOitIS7b1y5V",
        "colab_type": "text"
      },
      "cell_type": "markdown",
      "source": [
        "### 1.1 No of followers for each person"
      ]
    },
    {
      "metadata": {
        "id": "0Asna-dqxwUb",
        "colab_type": "code",
        "outputId": "6d5cfe9d-afc6-49a5-bc61-4870ffd23bf5",
        "colab": {
          "base_uri": "https://localhost:8080/",
          "height": 387
        }
      },
      "cell_type": "code",
      "source": [
        "indegree_dist = list(dict(g.in_degree()).values())\n",
        "indegree_dist.sort()\n",
        "plt.figure(figsize=(10,6))\n",
        "plt.plot(indegree_dist)\n",
        "plt.xlabel('Index No')\n",
        "plt.ylabel('No Of Followers')\n",
        "plt.show()"
      ],
      "execution_count": 0,
      "outputs": [
        {
          "output_type": "display_data",
          "data": {
            "image/png": "[encoded data removed]",
            "text/plain": [
              "<Figure size 720x432 with 1 Axes>"
            ]
          },
          "metadata": {
            "tags": []
          }
        }
      ]
    },
    {
      "metadata": {
        "id": "KWMYJpFGxwX2",
        "colab_type": "code",
        "outputId": "b720a13c-2aba-4694-e3ec-314f99ec1407",
        "colab": {
          "base_uri": "https://localhost:8080/",
          "height": 387
        }
      },
      "cell_type": "code",
      "source": [
        "#ploting at some index\n",
        "indegree_dist = list(dict(g.in_degree()).values())\n",
        "indegree_dist.sort()\n",
        "plt.figure(figsize=(10,6))\n",
        "plt.plot(indegree_dist[0:1500000])\n",
        "plt.xlabel('Index No')\n",
        "plt.ylabel('No Of Followers')\n",
        "plt.show()\n",
        "#indegree_dist"
      ],
      "execution_count": 0,
      "outputs": [
        {
          "output_type": "display_data",
          "data": {
            "image/png": "[encoded data removed]",
            "text/plain": [
              "<Figure size 720x432 with 1 Axes>"
            ]
          },
          "metadata": {
            "tags": []
          }
        }
      ]
    },
    {
      "metadata": {
        "id": "GwbMH7H6xwpJ",
        "colab_type": "code",
        "outputId": "2b3843ed-a822-4d9d-c6a5-fbf869267b4f",
        "colab": {
          "base_uri": "https://localhost:8080/",
          "height": 212
        }
      },
      "cell_type": "code",
      "source": [
        "### 90-100 percentile\n",
        "for i in range(0,11):\n",
        "    print(90+i,'percentile value is',np.percentile(indegree_dist,90+i))"
      ],
      "execution_count": 0,
      "outputs": [
        {
          "output_type": "stream",
          "text": [
            "90 percentile value is 12.0\n",
            "91 percentile value is 13.0\n",
            "92 percentile value is 14.0\n",
            "93 percentile value is 15.0\n",
            "94 percentile value is 17.0\n",
            "95 percentile value is 19.0\n",
            "96 percentile value is 21.0\n",
            "97 percentile value is 24.0\n",
            "98 percentile value is 29.0\n",
            "99 percentile value is 40.0\n",
            "100 percentile value is 552.0\n"
          ],
          "name": "stdout"
        }
      ]
    },
    {
      "metadata": {
        "id": "7IEfme4h2vhR",
        "colab_type": "text"
      },
      "cell_type": "markdown",
      "source": [
        "99% of data having followers of 40 only."
      ]
    },
    {
      "metadata": {
        "id": "lR2R7Mklxwm2",
        "colab_type": "code",
        "outputId": "d62ebd64-2caf-4654-d640-ad70d412bb8a",
        "colab": {
          "base_uri": "https://localhost:8080/",
          "height": 194
        }
      },
      "cell_type": "code",
      "source": [
        "### 99-100 percentile\n",
        "for i in range(10,110,10):\n",
        "    print(99+(i/100),'percentile value is',np.percentile(indegree_dist,99+(i/100)))"
      ],
      "execution_count": 0,
      "outputs": [
        {
          "output_type": "stream",
          "text": [
            "99.1 percentile value is 42.0\n",
            "99.2 percentile value is 44.0\n",
            "99.3 percentile value is 47.0\n",
            "99.4 percentile value is 50.0\n",
            "99.5 percentile value is 55.0\n",
            "99.6 percentile value is 61.0\n",
            "99.7 percentile value is 70.0\n",
            "99.8 percentile value is 84.0\n",
            "99.9 percentile value is 112.0\n",
            "100.0 percentile value is 552.0\n"
          ],
          "name": "stdout"
        }
      ]
    },
    {
      "metadata": {
        "id": "HM7OSWMFxwjs",
        "colab_type": "code",
        "outputId": "3c573642-0c62-41b7-8afb-edb12e02bb2c",
        "colab": {
          "base_uri": "https://localhost:8080/",
          "height": 522
        }
      },
      "cell_type": "code",
      "source": [
        "%matplotlib inline\n",
        "sns.set_style('ticks')\n",
        "fig, ax = plt.subplots()\n",
        "fig.set_size_inches(11.7, 8.27)\n",
        "sns.distplot(indegree_dist, color='#16A085')\n",
        "plt.xlabel('PDF of Indegree')\n",
        "sns.despine()\n",
        "#plt.show()"
      ],
      "execution_count": 0,
      "outputs": [
        {
          "output_type": "display_data",
          "data": {
            "image/png": "[encoded data removed]",
            "text/plain": [
              "<Figure size 842.4x595.44 with 1 Axes>"
            ]
          },
          "metadata": {
            "tags": []
          }
        }
      ]
    },
    {
      "metadata": {
        "id": "D-CCmNyl6Ydz",
        "colab_type": "text"
      },
      "cell_type": "markdown",
      "source": [
        "### 1.2 No of people each person is following"
      ]
    },
    {
      "metadata": {
        "id": "kovG0KEjxwhZ",
        "colab_type": "code",
        "outputId": "6af9f560-c144-44c2-e3b9-b3f1b8e7d6f3",
        "colab": {
          "base_uri": "https://localhost:8080/",
          "height": 400
        }
      },
      "cell_type": "code",
      "source": [
        "outdegree_dist = list(dict(g.out_degree()).values())\n",
        "outdegree_dist.sort()\n",
        "plt.figure(figsize=(10,6))\n",
        "plt.plot(outdegree_dist)\n",
        "plt.xlabel('Index No')\n",
        "plt.ylabel('No Of people each person is following')\n",
        "plt.show()"
      ],
      "execution_count": 0,
      "outputs": [
        {
          "output_type": "display_data",
          "data": {
            "image/png": "[encoded data removed]",
            "text/plain": [
              "<Figure size 720x432 with 1 Axes>"
            ]
          },
          "metadata": {
            "tags": []
          }
        }
      ]
    },
    {
      "metadata": {
        "id": "MzNYaTTIxwbU",
        "colab_type": "code",
        "outputId": "4f377b7d-eb2b-40bd-a7bb-e7794a480252",
        "colab": {
          "base_uri": "https://localhost:8080/",
          "height": 400
        }
      },
      "cell_type": "code",
      "source": [
        "outdegree_dist = list(dict(g.in_degree()).values())\n",
        "outdegree_dist.sort()\n",
        "plt.figure(figsize=(10,6))\n",
        "plt.plot(outdegree_dist[0:1500000])\n",
        "plt.xlabel('Index No')\n",
        "plt.ylabel('No Of people each person is following')\n",
        "plt.show()"
      ],
      "execution_count": 0,
      "outputs": [
        {
          "output_type": "display_data",
          "data": {
            "image/png": "[encoded data removed]",
            "text/plain": [
              "<Figure size 720x432 with 1 Axes>"
            ]
          },
          "metadata": {
            "tags": []
          }
        }
      ]
    },
    {
      "metadata": {
        "id": "eNs-hiuAj1VT",
        "colab_type": "code",
        "outputId": "b49b9561-d386-4049-db3b-146001646b3e",
        "colab": {
          "base_uri": "https://localhost:8080/",
          "height": 212
        }
      },
      "cell_type": "code",
      "source": [
        "### 90-100 percentile\n",
        "for i in range(0,11):\n",
        "    print(90+i,'percentile value is',np.percentile(outdegree_dist,90+i))"
      ],
      "execution_count": 0,
      "outputs": [
        {
          "output_type": "stream",
          "text": [
            "90 percentile value is 12.0\n",
            "91 percentile value is 13.0\n",
            "92 percentile value is 14.0\n",
            "93 percentile value is 15.0\n",
            "94 percentile value is 17.0\n",
            "95 percentile value is 19.0\n",
            "96 percentile value is 21.0\n",
            "97 percentile value is 24.0\n",
            "98 percentile value is 29.0\n",
            "99 percentile value is 40.0\n",
            "100 percentile value is 552.0\n"
          ],
          "name": "stdout"
        }
      ]
    },
    {
      "metadata": {
        "id": "J4uF_ZrDj1XS",
        "colab_type": "code",
        "outputId": "aaf852fc-4802-455b-a20f-e76a92fefc28",
        "colab": {
          "base_uri": "https://localhost:8080/",
          "height": 194
        }
      },
      "cell_type": "code",
      "source": [
        "### 99-100 percentile\n",
        "for i in range(10,110,10):\n",
        "    print(99+(i/100),'percentile value is',np.percentile(outdegree_dist,99+(i/100)))"
      ],
      "execution_count": 0,
      "outputs": [
        {
          "output_type": "stream",
          "text": [
            "99.1 percentile value is 42.0\n",
            "99.2 percentile value is 44.0\n",
            "99.3 percentile value is 47.0\n",
            "99.4 percentile value is 50.0\n",
            "99.5 percentile value is 55.0\n",
            "99.6 percentile value is 61.0\n",
            "99.7 percentile value is 70.0\n",
            "99.8 percentile value is 84.0\n",
            "99.9 percentile value is 112.0\n",
            "100.0 percentile value is 552.0\n"
          ],
          "name": "stdout"
        }
      ]
    },
    {
      "metadata": {
        "id": "lJ3aQcqGj1ag",
        "colab_type": "code",
        "outputId": "1dd1b316-cef3-4e12-9345-e9408138a892",
        "colab": {
          "base_uri": "https://localhost:8080/",
          "height": 522
        }
      },
      "cell_type": "code",
      "source": [
        "sns.set_style('ticks')\n",
        "fig, ax = plt.subplots()\n",
        "fig.set_size_inches(11.7, 8.27)\n",
        "sns.distplot(outdegree_dist, color='#16A085')\n",
        "plt.xlabel('PDF of Outdegree')\n",
        "sns.despine()"
      ],
      "execution_count": 0,
      "outputs": [
        {
          "output_type": "display_data",
          "data": {
            "image/png": "[encoded data removed]",
            "text/plain": [
              "<Figure size 842.4x595.44 with 1 Axes>"
            ]
          },
          "metadata": {
            "tags": []
          }
        }
      ]
    },
    {
      "metadata": {
        "id": "L4B1nVkqj1dx",
        "colab_type": "code",
        "outputId": "8612438c-2131-49e5-8e83-03e872cd4564",
        "colab": {
          "base_uri": "https://localhost:8080/",
          "height": 34
        }
      },
      "cell_type": "code",
      "source": [
        "print('No of persons those are not following anyone are : ' ,sum(np.array(outdegree_dist)==0),'and % is :',sum(np.array(outdegree_dist)==0)*100/len(outdegree_dist) )"
      ],
      "execution_count": 0,
      "outputs": [
        {
          "output_type": "stream",
          "text": [
            "No of persons those are not following anyone are :  188043 and % is : 10.097786512871734\n"
          ],
          "name": "stdout"
        }
      ]
    },
    {
      "metadata": {
        "id": "7Ei0m1NOj1gt",
        "colab_type": "code",
        "outputId": "da7c10f0-f215-4a30-d61d-e0f805892765",
        "colab": {
          "base_uri": "https://localhost:8080/",
          "height": 34
        }
      },
      "cell_type": "code",
      "source": [
        "print('No of persons having zero followers are : ' ,sum(np.array(indegree_dist)==0),'and % is : ',sum(np.array(indegree_dist)==0)*100/len(indegree_dist) )"
      ],
      "execution_count": 0,
      "outputs": [
        {
          "output_type": "stream",
          "text": [
            "No of persons having zero followers are :  188043 and % is :  10.097786512871734\n"
          ],
          "name": "stdout"
        }
      ]
    },
    {
      "metadata": {
        "id": "8c52s8o4j1jQ",
        "colab_type": "code",
        "outputId": "afa727d5-b832-400b-e964-c61b30d932ee",
        "colab": {
          "base_uri": "https://localhost:8080/",
          "height": 34
        }
      },
      "cell_type": "code",
      "source": [
        "count=0\n",
        "for i in g.nodes():\n",
        "    if len(list(g.predecessors(i)))==0 :\n",
        "        if len(list(g.successors(i)))==0:\n",
        "            count+=1\n",
        "print('No of persons those are not following anyone and also not having any followers are : ',count)"
      ],
      "execution_count": 0,
      "outputs": [
        {
          "output_type": "stream",
          "text": [
            "No of persons those are not following anyone and also not having any followers are :  0\n"
          ],
          "name": "stdout"
        }
      ]
    },
    {
      "metadata": {
        "id": "Oe0N1zLB76za",
        "colab_type": "text"
      },
      "cell_type": "markdown",
      "source": [
        "### 1.3 both followers + following "
      ]
    },
    {
      "metadata": {
        "id": "Ys2sp0mLj1ml",
        "colab_type": "code",
        "colab": {}
      },
      "cell_type": "code",
      "source": [
        "from collections import Counter\n",
        "dict_in = dict(g.in_degree())\n",
        "dict_out = dict(g.out_degree())\n",
        "d = Counter(dict_in) + Counter(dict_out)\n",
        "in_out_degree = np.array(list(d.values()))"
      ],
      "execution_count": 0,
      "outputs": []
    },
    {
      "metadata": {
        "id": "1ZYKwRaTj1pa",
        "colab_type": "code",
        "outputId": "a0c38cfe-83ba-4399-e139-799ea07ea0ec",
        "colab": {
          "base_uri": "https://localhost:8080/",
          "height": 400
        }
      },
      "cell_type": "code",
      "source": [
        "in_out_degree_sort = sorted(in_out_degree)\n",
        "plt.figure(figsize=(10,6))\n",
        "plt.plot(in_out_degree_sort)\n",
        "plt.xlabel('Index No')\n",
        "plt.ylabel('No Of people each person is following + followers')\n",
        "plt.show()"
      ],
      "execution_count": 0,
      "outputs": [
        {
          "output_type": "display_data",
          "data": {
            "image/png": "[encoded data removed]",
            "text/plain": [
              "<Figure size 720x432 with 1 Axes>"
            ]
          },
          "metadata": {
            "tags": []
          }
        }
      ]
    },
    {
      "metadata": {
        "id": "7qbSLkpvj1vY",
        "colab_type": "code",
        "outputId": "ea5de91e-4978-4f6b-a1d4-bcfd7aa1b524",
        "colab": {
          "base_uri": "https://localhost:8080/",
          "height": 400
        }
      },
      "cell_type": "code",
      "source": [
        "in_out_degree_sort = sorted(in_out_degree)\n",
        "plt.figure(figsize=(10,6))\n",
        "plt.plot(in_out_degree_sort[0:1500000])\n",
        "plt.xlabel('Index No')\n",
        "plt.ylabel('No Of people each person is following + followers')\n",
        "plt.show()"
      ],
      "execution_count": 0,
      "outputs": [
        {
          "output_type": "display_data",
          "data": {
            "image/png": "[encoded data removed]",
            "text/plain": [
              "<Figure size 720x432 with 1 Axes>"
            ]
          },
          "metadata": {
            "tags": []
          }
        }
      ]
    },
    {
      "metadata": {
        "id": "WSQzvmN4j1yv",
        "colab_type": "code",
        "outputId": "2390d584-9b8f-4f3c-f2ca-a19bb27c4fd2",
        "colab": {
          "base_uri": "https://localhost:8080/",
          "height": 212
        }
      },
      "cell_type": "code",
      "source": [
        "### 90-100 percentile\n",
        "for i in range(0,11):\n",
        "    print(90+i,'percentile value is',np.percentile(in_out_degree_sort,90+i))"
      ],
      "execution_count": 0,
      "outputs": [
        {
          "output_type": "stream",
          "text": [
            "90 percentile value is 24.0\n",
            "91 percentile value is 26.0\n",
            "92 percentile value is 28.0\n",
            "93 percentile value is 31.0\n",
            "94 percentile value is 33.0\n",
            "95 percentile value is 37.0\n",
            "96 percentile value is 41.0\n",
            "97 percentile value is 48.0\n",
            "98 percentile value is 58.0\n",
            "99 percentile value is 79.0\n",
            "100 percentile value is 1579.0\n"
          ],
          "name": "stdout"
        }
      ]
    },
    {
      "metadata": {
        "id": "d_Ipm8zDAhu6",
        "colab_type": "code",
        "outputId": "5d22dc23-6878-4845-9bec-ea3568501a14",
        "colab": {
          "base_uri": "https://localhost:8080/",
          "height": 194
        }
      },
      "cell_type": "code",
      "source": [
        "### 99-100 percentile\n",
        "for i in range(10,110,10):\n",
        "    print(99+(i/100),'percentile value is',np.percentile(in_out_degree_sort,99+(i/100)))"
      ],
      "execution_count": 0,
      "outputs": [
        {
          "output_type": "stream",
          "text": [
            "99.1 percentile value is 83.0\n",
            "99.2 percentile value is 87.0\n",
            "99.3 percentile value is 93.0\n",
            "99.4 percentile value is 99.0\n",
            "99.5 percentile value is 108.0\n",
            "99.6 percentile value is 120.0\n",
            "99.7 percentile value is 138.0\n",
            "99.8 percentile value is 168.0\n",
            "99.9 percentile value is 221.0\n",
            "100.0 percentile value is 1579.0\n"
          ],
          "name": "stdout"
        }
      ]
    },
    {
      "metadata": {
        "id": "w6QeGxyRAhy3",
        "colab_type": "code",
        "outputId": "8a331f4b-b161-4648-c36a-516910071098",
        "colab": {
          "base_uri": "https://localhost:8080/",
          "height": 52
        }
      },
      "cell_type": "code",
      "source": [
        "print('Min of no of followers + following is',in_out_degree.min())\n",
        "print(np.sum(in_out_degree==in_out_degree.min()),' persons having minimum no of followers + following')"
      ],
      "execution_count": 0,
      "outputs": [
        {
          "output_type": "stream",
          "text": [
            "Min of no of followers + following is 1\n",
            "334291  persons having minimum no of followers + following\n"
          ],
          "name": "stdout"
        }
      ]
    },
    {
      "metadata": {
        "id": "5u8z6g0KAh41",
        "colab_type": "code",
        "outputId": "718a9a02-eba0-4e0a-825f-b9060553a55d",
        "colab": {
          "base_uri": "https://localhost:8080/",
          "height": 52
        }
      },
      "cell_type": "code",
      "source": [
        "print('Max of no of followers + following is',in_out_degree.max())\n",
        "print(np.sum(in_out_degree==in_out_degree.max()),' persons having maximum no of followers + following')"
      ],
      "execution_count": 0,
      "outputs": [
        {
          "output_type": "stream",
          "text": [
            "Max of no of followers + following is 1579\n",
            "1  persons having maximum no of followers + following\n"
          ],
          "name": "stdout"
        }
      ]
    },
    {
      "metadata": {
        "id": "6gAURRoXAh-w",
        "colab_type": "code",
        "outputId": "7f077207-143c-46f0-fa5c-4beb7abdc653",
        "colab": {
          "base_uri": "https://localhost:8080/",
          "height": 34
        }
      },
      "cell_type": "code",
      "source": [
        "print('No of persons having followers + following less than 10 are',np.sum(in_out_degree<10))"
      ],
      "execution_count": 0,
      "outputs": [
        {
          "output_type": "stream",
          "text": [
            "No of persons having followers + following less than 10 are 1320326\n"
          ],
          "name": "stdout"
        }
      ]
    },
    {
      "metadata": {
        "id": "1TXq9rJXAiGU",
        "colab_type": "code",
        "outputId": "aa7eac83-46b4-45f5-bd27-139289561577",
        "colab": {
          "base_uri": "https://localhost:8080/",
          "height": 52
        }
      },
      "cell_type": "code",
      "source": [
        "print('No of weakly connected components',len(list(nx.weakly_connected_components(g))))\n",
        "count=0\n",
        "for i in list(nx.weakly_connected_components(g)):\n",
        "    if len(i)==2:\n",
        "        count+=1\n",
        "print('weakly connected components wit 2 nodes',count)"
      ],
      "execution_count": 0,
      "outputs": [
        {
          "output_type": "stream",
          "text": [
            "No of weakly connected components 45558\n",
            "weakly connected components wit 2 nodes 32195\n"
          ],
          "name": "stdout"
        }
      ]
    },
    {
      "metadata": {
        "id": "0bHpKXYODqop",
        "colab_type": "text"
      },
      "cell_type": "markdown",
      "source": [
        "### 1.4 Posing a problem as classification problem "
      ]
    },
    {
      "metadata": {
        "id": "GBFi86LEAiQp",
        "colab_type": "code",
        "outputId": "8816ad4b-6eca-465c-86b1-6dbed7872b74",
        "colab": {
          "base_uri": "https://localhost:8080/",
          "height": 70
        }
      },
      "cell_type": "code",
      "source": [
        "%%time\n",
        "###generating bad edges from given graph\n",
        "import random\n",
        "if not os.path.isfile('/content/drive/My Drive/Colab Notebooks/data_facebook/missing_edges_final.p'):\n",
        "    #getting all set of edges\n",
        "  r = csv.reader(open('/content/drive/My Drive/Colab Notebooks/data_facebook/train_woheader_sample.csv','r'))\n",
        "    edges = dict()\n",
        "    for edge in r:\n",
        "        edges[(edge[0], edge[1])] = 1\n",
        "        \n",
        "        \n",
        "    missing_edges = set([])\n",
        "    while (len(missing_edges)<9437519):\n",
        "        a=random.randint(1, 1862220)\n",
        "        b=random.randint(1, 1862220)\n",
        "        tmp = edges.get((a,b),-1)\n",
        "        if tmp == -1 and a!=b:\n",
        "            try:\n",
        "                if nx.shortest_path_length(g,source=a,target=b) > 2: \n",
        "\n",
        "                    missing_edges.add((a,b))\n",
        "                else:\n",
        "                    continue  \n",
        "            except:  \n",
        "                    missing_edges.add((a,b))              \n",
        "        else:\n",
        "            continue\n",
        "    pickle.dump(missing_edges,open('data/after_eda/missing_edges_final.p','wb'))\n",
        "else:\n",
        "  print(\"b\")\n",
        "  missing_edges = pickle.load(open('/content/drive/My Drive/Colab Notebooks/data_facebook/missing_edges_final.p','rb'))"
      ],
      "execution_count": 0,
      "outputs": [
        {
          "output_type": "stream",
          "text": [
            "b\n",
            "CPU times: user 2.41 s, sys: 1.61 s, total: 4.02 s\n",
            "Wall time: 7.24 s\n"
          ],
          "name": "stdout"
        }
      ]
    },
    {
      "metadata": {
        "id": "Gx3N4dhz1moX",
        "colab_type": "code",
        "outputId": "e090e9c6-98d5-4baf-c7ee-4e32e1debc95",
        "colab": {
          "base_uri": "https://localhost:8080/",
          "height": 34
        }
      },
      "cell_type": "code",
      "source": [
        "len(missing_edges)"
      ],
      "execution_count": 0,
      "outputs": [
        {
          "output_type": "execute_result",
          "data": {
            "text/plain": [
              "9437519"
            ]
          },
          "metadata": {
            "tags": []
          },
          "execution_count": 16
        }
      ]
    },
    {
      "metadata": {
        "id": "6ML1ihC11vrV",
        "colab_type": "text"
      },
      "cell_type": "markdown",
      "source": [
        "###  1.5 Training and Test data split:  \n",
        "Removed edges from Graph and used as test data and after removing used that graph for creating features for Train and test data"
      ]
    },
    {
      "metadata": {
        "id": "7DuwS3qa1muM",
        "colab_type": "code",
        "outputId": "1d743787-899d-40d9-b13f-ff2f092f573d",
        "colab": {
          "base_uri": "https://localhost:8080/",
          "height": 34
        }
      },
      "cell_type": "code",
      "source": [
        "from sklearn.model_selection import train_test_split\n",
        "if (not os.path.isfile('/content/drive/My Drive/Colab Notebooks/data_facebook/train_pos_after_eda.csv')) and (not os.path.isfile('/content/drive/My Drive/Colab Notebooks/data_facebook/test_pos_after_eda.csv')):\n",
        "    #reading total data df\n",
        "    print(\"New file\")\n",
        "    df_pos = pd.read_csv('/content/drive/My Drive/Colab Notebooks/data_facebook/facebook_train.csv')\n",
        "    df_neg = pd.DataFrame(list(missing_edges), columns=['source_node', 'destination_node'])\n",
        "    \n",
        "    print(\"Number of nodes in the graph with edges\", df_pos.shape[0])\n",
        "    print(\"Number of nodes in the graph without edges\", df_neg.shape[0])\n",
        "    \n",
        "    #Trian test split \n",
        "    #Spiltted data into 80-20 \n",
        "    #positive links and negative links seperatly because we need positive training data only for creating graph \n",
        "    #and for feature generation\n",
        "    X_train_pos, X_test_pos, y_train_pos, y_test_pos  = train_test_split(df_pos,np.ones(len(df_pos)),test_size=0.2, random_state=9)\n",
        "    X_train_neg, X_test_neg, y_train_neg, y_test_neg  = train_test_split(df_neg,np.zeros(len(df_neg)),test_size=0.2, random_state=9)\n",
        "    \n",
        "    print('='*60)\n",
        "    print(\"Number of nodes in the train data graph with edges\", X_train_pos.shape[0],\"=\",y_train_pos.shape[0])\n",
        "    print(\"Number of nodes in the train data graph without edges\", X_train_neg.shape[0],\"=\", y_train_neg.shape[0])\n",
        "    print('='*60)\n",
        "    print(\"Number of nodes in the test data graph with edges\", X_test_pos.shape[0],\"=\",y_test_pos.shape[0])\n",
        "    print(\"Number of nodes in the test data graph without edges\", X_test_neg.shape[0],\"=\",y_test_neg.shape[0])\n",
        "\n",
        "    #removing header and saving\n",
        "    X_train_pos.to_csv('data/after_eda/train_pos_after_eda.csv',header=False, index=False)\n",
        "    X_test_pos.to_csv('data/after_eda/test_pos_after_eda.csv',header=False, index=False)\n",
        "    X_train_neg.to_csv('data/after_eda/train_neg_after_eda.csv',header=False, index=False)\n",
        "    X_test_neg.to_csv('data/after_eda/test_neg_after_eda.csv',header=False, index=False)\n",
        "else:\n",
        "    #Graph from Traing data only\n",
        "    print(\"Already Existed\")\n",
        "    del missing_edges"
      ],
      "execution_count": 0,
      "outputs": [
        {
          "output_type": "stream",
          "text": [
            "Already Existed\n"
          ],
          "name": "stdout"
        }
      ]
    },
    {
      "metadata": {
        "id": "ua9-eF8l1m9J",
        "colab_type": "code",
        "outputId": "18917c5d-bef6-4e8e-cbac-5685bf21f355",
        "colab": {
          "base_uri": "https://localhost:8080/",
          "height": 301
        }
      },
      "cell_type": "code",
      "source": [
        "if (os.path.isfile('/content/drive/My Drive/Colab Notebooks/data_facebook/train_pos_after_eda.csv')) and (os.path.isfile('/content/drive/My Drive/Colab Notebooks/data_facebook/test_pos_after_eda.csv')):        \n",
        "    train_graph=nx.read_edgelist('/content/drive/My Drive/Colab Notebooks/data_facebook/train_pos_after_eda.csv',delimiter=',',create_using=nx.DiGraph(),nodetype=int)\n",
        "    test_graph=nx.read_edgelist('/content/drive/My Drive/Colab Notebooks/data_facebook/test_pos_after_eda.csv',delimiter=',',create_using=nx.DiGraph(),nodetype=int)\n",
        "    print(nx.info(train_graph))\n",
        "    print(nx.info(test_graph))\n",
        "\n",
        "    # finding the unique nodes in the both train and test graphs\n",
        "    train_nodes_pos = set(train_graph.nodes())\n",
        "    test_nodes_pos = set(test_graph.nodes())\n",
        "\n",
        "    trY_teY = len(train_nodes_pos.intersection(test_nodes_pos))\n",
        "    trY_teN = len(train_nodes_pos - test_nodes_pos)\n",
        "    teY_trN = len(test_nodes_pos - train_nodes_pos)\n",
        "\n",
        "    print('no of people common in train and test -- ',trY_teY)\n",
        "    print('no of people present in train but not present in test -- ',trY_teN)\n",
        "\n",
        "    print('no of people present in test but not present in train -- ',teY_trN)\n",
        "    print(' % of people not there in Train but exist in Test in total Test data are {} %'.format(teY_trN/len(test_nodes_pos)*100))"
      ],
      "execution_count": 0,
      "outputs": [
        {
          "output_type": "stream",
          "text": [
            "Name: \n",
            "Type: DiGraph\n",
            "Number of nodes: 1780722\n",
            "Number of edges: 7550015\n",
            "Average in degree:   4.2399\n",
            "Average out degree:   4.2399\n",
            "Name: \n",
            "Type: DiGraph\n",
            "Number of nodes: 1144623\n",
            "Number of edges: 1887504\n",
            "Average in degree:   1.6490\n",
            "Average out degree:   1.6490\n",
            "no of people common in train and test --  1063125\n",
            "no of people present in train but not present in test --  717597\n",
            "no of people present in test but not present in train --  81498\n",
            " % of people not there in Train but exist in Test in total Test data are 7.1200735962845405 %\n"
          ],
          "name": "stdout"
        }
      ]
    },
    {
      "metadata": {
        "id": "1cP6iqy82A1y",
        "colab_type": "text"
      },
      "cell_type": "markdown",
      "source": [
        "we have a cold start problem here"
      ]
    },
    {
      "metadata": {
        "id": "XXqb5ZRG1m7A",
        "colab_type": "code",
        "outputId": "b79e0bde-1b0a-4eac-aebf-fcef5da20c4d",
        "colab": {
          "base_uri": "https://localhost:8080/",
          "height": 123
        }
      },
      "cell_type": "code",
      "source": [
        "#final train and test data sets\n",
        "if (not os.path.isfile('/content/drive/My Drive/Colab Notebooks/data_facebook/train_after_eda.csv')) and \\\n",
        "(not os.path.isfile('/content/drive/My Drive/Colab Notebooks/data_facebook/test_after_eda.csv')) and \\\n",
        "(not os.path.isfile('/content/drive/My Drive/Colab Notebooks/data_facebook/train_y.csv')) and \\\n",
        "(not os.path.isfile('/content/drive/My Drive/Colab Notebooks/data_facebook/test_y.csv')) and \\\n",
        "(os.path.isfile('/content/drive/My Drive/Colab Notebooks/data_facebook/train_pos_after_eda.csv')) and \\\n",
        "(os.path.isfile('/content/drive/My Drive/Colab Notebooks/data_facebook/test_pos_after_eda.csv')) and \\\n",
        "(os.path.isfile('/content/drive/My Drive/Colab Notebooks/data_facebook/train_neg_after_eda.csv')) and \\\n",
        "(os.path.isfile('/content/drive/My Drive/Colab Notebooks/data_facebook/test_neg_after_eda.csv')):\n",
        "    \n",
        "    X_train_pos = pd.read_csv('/content/drive/My Drive/Colab Notebooks/data_facebook/train_pos_after_eda.csv', names=['source_node', 'destination_node'])\n",
        "    X_test_pos = pd.read_csv('/content/drive/My Drive/Colab Notebooks/data_facebook/test_pos_after_eda.csv', names=['source_node', 'destination_node'])\n",
        "    X_train_neg = pd.read_csv('/content/drive/My Drive/Colab Notebooks/data_facebook/train_neg_after_eda.csv', names=['source_node', 'destination_node'])\n",
        "    X_test_neg = pd.read_csv('/content/drive/My Drive/Colab Notebooks/data_facebook/test_neg_after_eda.csv', names=['source_node', 'destination_node'])\n",
        "\n",
        "    print('='*60)\n",
        "    print(\"Number of nodes in the train data graph with edges\", X_train_pos.shape[0])\n",
        "    print(\"Number of nodes in the train data graph without edges\", X_train_neg.shape[0])\n",
        "    print('='*60)\n",
        "    print(\"Number of nodes in the test data graph with edges\", X_test_pos.shape[0])\n",
        "    print(\"Number of nodes in the test data graph without edges\", X_test_neg.shape[0])\n",
        "\n",
        "    X_train = X_train_pos.append(X_train_neg,ignore_index=True)\n",
        "    y_train = np.concatenate((y_train_pos,y_train_neg))\n",
        "    X_test = X_test_pos.append(X_test_neg,ignore_index=True)\n",
        "    y_test = np.concatenate((y_test_pos,y_test_neg)) \n",
        "    \n",
        "    X_train.to_csv('/content/drive/My Drive/Colab Notebooks/data_facebook/train_after_eda.csv',header=False,index=False)\n",
        "    X_test.to_csv('/content/drive/My Drive/Colab Notebooks/data_facebook/test_after_eda.csv',header=False,index=False)\n",
        "    pd.DataFrame(y_train.astype(int)).to_csv('/content/drive/My Drive/Colab Notebooks/data_facebook/train_y.csv',header=False,index=False)\n",
        "    pd.DataFrame(y_test.astype(int)).to_csv('/content/drive/My Drive/Colab Notebooks/data_facebook/test_y.csv',header=False,index=False)\n",
        "    \n",
        "else:\n",
        "  \n",
        "  print(\"testing\")"
      ],
      "execution_count": 0,
      "outputs": [
        {
          "output_type": "stream",
          "text": [
            "============================================================\n",
            "Number of nodes in the train data graph with edges 7550015\n",
            "Number of nodes in the train data graph without edges 7550015\n",
            "============================================================\n",
            "Number of nodes in the test data graph with edges 1887504\n",
            "Number of nodes in the test data graph without edges 1887504\n"
          ],
          "name": "stdout"
        }
      ]
    },
    {
      "metadata": {
        "id": "RVf65ERKSR1E",
        "colab_type": "text"
      },
      "cell_type": "markdown",
      "source": [
        "## Featurization"
      ]
    },
    {
      "metadata": {
        "id": "xjYYxt9kW6PC",
        "colab_type": "text"
      },
      "cell_type": "markdown",
      "source": [
        "### 1. Reading Data"
      ]
    },
    {
      "metadata": {
        "id": "qyGx61JF1mzO",
        "colab_type": "code",
        "outputId": "1d87663d-c5b6-49bf-e43c-60a4f665a66f",
        "colab": {
          "base_uri": "https://localhost:8080/",
          "height": 158
        }
      },
      "cell_type": "code",
      "source": [
        "%%time\n",
        "#Reading Data\n",
        "if os.path.isfile('/content/drive/My Drive/Colab Notebooks/data_facebook/train_pos_after_eda.csv'):\n",
        "    train_graph=nx.read_edgelist('/content/drive/My Drive/Colab Notebooks/data_facebook/train_pos_after_eda.csv',delimiter=',',create_using=nx.DiGraph(),nodetype=int)\n",
        "    print(nx.info(train_graph))\n",
        "else:\n",
        "    print(\"please run the FB_EDA.ipynb or download the files from drive\")"
      ],
      "execution_count": 0,
      "outputs": [
        {
          "output_type": "stream",
          "text": [
            "Name: \n",
            "Type: DiGraph\n",
            "Number of nodes: 1780722\n",
            "Number of edges: 7550015\n",
            "Average in degree:   4.2399\n",
            "Average out degree:   4.2399\n",
            "CPU times: user 1min 2s, sys: 3.43 s, total: 1min 6s\n",
            "Wall time: 1min 7s\n"
          ],
          "name": "stdout"
        }
      ]
    },
    {
      "metadata": {
        "id": "reWOBMK6WylN",
        "colab_type": "text"
      },
      "cell_type": "markdown",
      "source": [
        "### 2. Similarity measures"
      ]
    },
    {
      "metadata": {
        "id": "16hZ2pFaXA-I",
        "colab_type": "text"
      },
      "cell_type": "markdown",
      "source": [
        "#### 2.1 Jaccard Distance:\n",
        "http://www.statisticshowto.com/jaccard-index/\n",
        "\n",
        "\\begin{equation}\n",
        "j = \\frac{|X\\cap Y|}{|X \\cup Y|} \n",
        "\\end{equation}"
      ]
    },
    {
      "metadata": {
        "id": "ezV0JN4eAiMm",
        "colab_type": "code",
        "colab": {}
      },
      "cell_type": "code",
      "source": [
        "#for followees\n",
        "def jaccard_for_followees(a,b):\n",
        "    try:\n",
        "        if len(set(train_graph.successors(a))) == 0  | len(set(train_graph.successors(b))) == 0:\n",
        "            return 0\n",
        "        sim = (len(set(train_graph.successors(a)).intersection(set(train_graph.successors(b)))))/\\\n",
        "                                    (len(set(train_graph.successors(a)).union(set(train_graph.successors(b)))))\n",
        "    except:\n",
        "        return 0\n",
        "    return sim"
      ],
      "execution_count": 0,
      "outputs": []
    },
    {
      "metadata": {
        "id": "GTlWTIsUU6Tr",
        "colab_type": "code",
        "outputId": "82e5191c-492a-4f37-fbf4-88f74e6b4231",
        "colab": {
          "base_uri": "https://localhost:8080/",
          "height": 34
        }
      },
      "cell_type": "code",
      "source": [
        "#one test case\n",
        "print(jaccard_for_followees(273084,1505602))"
      ],
      "execution_count": 0,
      "outputs": [
        {
          "output_type": "stream",
          "text": [
            "0.0\n"
          ],
          "name": "stdout"
        }
      ]
    },
    {
      "metadata": {
        "id": "beFbYg5LU6aT",
        "colab_type": "code",
        "colab": {}
      },
      "cell_type": "code",
      "source": [
        "#for followers\n",
        "def jaccard_for_followers(a,b):\n",
        "    try:\n",
        "        if len(set(train_graph.predecessors(a))) == 0  | len(set(g.predecessors(b))) == 0:\n",
        "            return 0\n",
        "        sim = (len(set(train_graph.predecessors(a)).intersection(set(train_graph.predecessors(b)))))/\\\n",
        "                                 (len(set(train_graph.predecessors(a)).union(set(train_graph.predecessors(b)))))\n",
        "        return sim\n",
        "    except:\n",
        "        return 0"
      ],
      "execution_count": 0,
      "outputs": []
    },
    {
      "metadata": {
        "id": "4BBgFm6QU6d0",
        "colab_type": "code",
        "outputId": "4e5abcf2-8111-4552-ee1e-a0ec2dbcc1c0",
        "colab": {
          "base_uri": "https://localhost:8080/",
          "height": 34
        }
      },
      "cell_type": "code",
      "source": [
        "print(jaccard_for_followers(273084,470294))"
      ],
      "execution_count": 0,
      "outputs": [
        {
          "output_type": "stream",
          "text": [
            "0\n"
          ],
          "name": "stdout"
        }
      ]
    },
    {
      "metadata": {
        "id": "YnKVLY3NXlGD",
        "colab_type": "text"
      },
      "cell_type": "markdown",
      "source": [
        "#### 2.2 Cosine distance\n",
        "\\begin{equation}\n",
        "CosineDistance = \\frac{|X\\cap Y|}{|X|\\cdot|Y|} \n",
        "\\end{equation}"
      ]
    },
    {
      "metadata": {
        "id": "xceVWP7tU6XE",
        "colab_type": "code",
        "colab": {}
      },
      "cell_type": "code",
      "source": [
        "#for followees\n",
        "def cosine_for_followees(a,b):\n",
        "    try:\n",
        "        if len(set(train_graph.successors(a))) == 0  | len(set(train_graph.successors(b))) == 0:\n",
        "            return 0\n",
        "        sim = (len(set(train_graph.successors(a)).intersection(set(train_graph.successors(b)))))/\\\n",
        "                                    (math.sqrt(len(set(train_graph.successors(a)))*len((set(train_graph.successors(b))))))\n",
        "        return sim\n",
        "    except:\n",
        "        return 0"
      ],
      "execution_count": 0,
      "outputs": []
    },
    {
      "metadata": {
        "id": "iKZZ6eqpU6Qx",
        "colab_type": "code",
        "outputId": "753c2fe5-efaa-4540-98a6-d27e4e472ebe",
        "colab": {
          "base_uri": "https://localhost:8080/",
          "height": 34
        }
      },
      "cell_type": "code",
      "source": [
        "print(cosine_for_followees(273084,1505602))"
      ],
      "execution_count": 0,
      "outputs": [
        {
          "output_type": "stream",
          "text": [
            "0.0\n"
          ],
          "name": "stdout"
        }
      ]
    },
    {
      "metadata": {
        "id": "ChwUq_7eAiC1",
        "colab_type": "code",
        "colab": {}
      },
      "cell_type": "code",
      "source": [
        "def cosine_for_followers(a,b):\n",
        "    try:\n",
        "        \n",
        "        if len(set(train_graph.predecessors(a))) == 0  | len(set(train_graph.predecessors(b))) == 0:\n",
        "            return 0\n",
        "        sim = (len(set(train_graph.predecessors(a)).intersection(set(train_graph.predecessors(b)))))/\\\n",
        "                                     (math.sqrt(len(set(train_graph.predecessors(a))))*(len(set(train_graph.predecessors(b)))))\n",
        "        return sim\n",
        "    except:\n",
        "        return 0"
      ],
      "execution_count": 0,
      "outputs": []
    },
    {
      "metadata": {
        "id": "eTwFS120j1su",
        "colab_type": "code",
        "outputId": "f3ec0c8f-7e42-4059-872a-3f07f638b42f",
        "colab": {
          "base_uri": "https://localhost:8080/",
          "height": 34
        }
      },
      "cell_type": "code",
      "source": [
        "print(cosine_for_followers(2,470294))"
      ],
      "execution_count": 0,
      "outputs": [
        {
          "output_type": "stream",
          "text": [
            "0.02886751345948129\n"
          ],
          "name": "stdout"
        }
      ]
    },
    {
      "metadata": {
        "id": "FyqPQeCKYF9H",
        "colab_type": "text"
      },
      "cell_type": "markdown",
      "source": [
        "### 3. Ranking Measures"
      ]
    },
    {
      "metadata": {
        "id": "asj2bNUKYLyx",
        "colab_type": "text"
      },
      "cell_type": "markdown",
      "source": [
        "https://networkx.github.io/documentation/networkx-1.10/reference/generated/networkx.algorithms.link_analysis.pagerank_alg.pagerank.html\n",
        "\n",
        "PageRank computes a ranking of the nodes in the graph G based on the structure of the incoming links.\n",
        "\n",
        "<img src='PageRanks-Example.jpg'/>\n",
        "\n",
        "Mathematical PageRanks for a simple network, expressed as percentages. (Google uses a logarithmic scale.) Page C has a higher PageRank than Page E, even though there are fewer links to C; the one link to C comes from an important page and hence is of high value. If web surfers who start on a random page have an 85% likelihood of choosing a random link from the page they are currently visiting, and a 15% likelihood of jumping to a page chosen at random from the entire web, they will reach Page E 8.1% of the time. <b>(The 15% likelihood of jumping to an arbitrary page corresponds to a damping factor of 85%.) Without damping, all web surfers would eventually end up on Pages A, B, or C, and all other pages would have PageRank zero. In the presence of damping, Page A effectively links to all pages in the web, even though it has no outgoing links of its own.</b>"
      ]
    },
    {
      "metadata": {
        "id": "JL3k_yOaYPug",
        "colab_type": "text"
      },
      "cell_type": "markdown",
      "source": [
        "#### 3.1 Page Ranking\n",
        "\n",
        "https://en.wikipedia.org/wiki/PageRank\n"
      ]
    },
    {
      "metadata": {
        "id": "yb9BMuMCX2dc",
        "colab_type": "code",
        "outputId": "d4d8d0ac-f946-416e-b131-50470a9f1e25",
        "colab": {
          "base_uri": "https://localhost:8080/",
          "height": 34
        }
      },
      "cell_type": "code",
      "source": [
        "if not os.path.isfile('/content/drive/My Drive/Colab Notebooks/data_facebook/fea_sample/page_rank.p'):\n",
        "    pr = nx.pagerank(train_graph, alpha=0.85)\n",
        "    pickle.dump(pr,open('/content/drive/My Drive/Colab Notebooks/data_facebook/fea_sample/page_rank.p','wb'))\n",
        "else:\n",
        "    print(\"b\")\n",
        "    pr = pickle.load(open('/content/drive/My Drive/Colab Notebooks/data_facebook/fea_sample/page_rank.p','rb'))"
      ],
      "execution_count": 0,
      "outputs": [
        {
          "output_type": "stream",
          "text": [
            "b\n"
          ],
          "name": "stdout"
        }
      ]
    },
    {
      "metadata": {
        "id": "nMFHOfIrX2jP",
        "colab_type": "code",
        "outputId": "70897a09-f237-48e9-ce5d-b5f8ac39d762",
        "colab": {
          "base_uri": "https://localhost:8080/",
          "height": 70
        }
      },
      "cell_type": "code",
      "source": [
        "print('min',pr[min(pr, key=pr.get)])\n",
        "print('max',pr[max(pr, key=pr.get)])\n",
        "print('mean',float(sum(pr.values())) / len(pr))"
      ],
      "execution_count": 0,
      "outputs": [
        {
          "output_type": "stream",
          "text": [
            "min 1.6556497245737814e-07\n",
            "max 2.7098251341935827e-05\n",
            "mean 5.615699699389075e-07\n"
          ],
          "name": "stdout"
        }
      ]
    },
    {
      "metadata": {
        "id": "gzJp51bBX22V",
        "colab_type": "code",
        "outputId": "a3462b5a-64db-4dc2-ac9b-61f164b53f01",
        "colab": {
          "base_uri": "https://localhost:8080/",
          "height": 34
        }
      },
      "cell_type": "code",
      "source": [
        "#for imputing to nodes which are not there in Train data\n",
        "mean_pr = float(sum(pr.values())) / len(pr)\n",
        "print(mean_pr)"
      ],
      "execution_count": 0,
      "outputs": [
        {
          "output_type": "stream",
          "text": [
            "5.615699699389075e-07\n"
          ],
          "name": "stdout"
        }
      ]
    },
    {
      "metadata": {
        "id": "cz2sxYiZY6Vv",
        "colab_type": "text"
      },
      "cell_type": "markdown",
      "source": [
        "### 4. Other Graph Features"
      ]
    },
    {
      "metadata": {
        "id": "b5G3SV6wZEBu",
        "colab_type": "text"
      },
      "cell_type": "markdown",
      "source": [
        "#### 4.1 Shortest path:\n",
        "Getting Shortest path between two nodes, if nodes have direct path i.e directly connected then we are removing that edge and calculating path."
      ]
    },
    {
      "metadata": {
        "id": "3CQnIBIvX20R",
        "colab_type": "code",
        "colab": {}
      },
      "cell_type": "code",
      "source": [
        "#if has direct edge then deleting that edge and calculating shortest path\n",
        "def compute_shortest_path_length(a,b):\n",
        "    p=-1\n",
        "    try:\n",
        "        if train_graph.has_edge(a,b):\n",
        "            train_graph.remove_edge(a,b)\n",
        "            p= nx.shortest_path_length(train_graph,source=a,target=b)\n",
        "            train_graph.add_edge(a,b)\n",
        "        else:\n",
        "            p= nx.shortest_path_length(train_graph,source=a,target=b)\n",
        "        return p\n",
        "    except:\n",
        "        return -1"
      ],
      "execution_count": 0,
      "outputs": []
    },
    {
      "metadata": {
        "id": "Ua2cgO5SX2x1",
        "colab_type": "code",
        "outputId": "4c73ae11-85a6-4094-862c-52bee981b945",
        "colab": {
          "base_uri": "https://localhost:8080/",
          "height": 34
        }
      },
      "cell_type": "code",
      "source": [
        "#testing\n",
        "compute_shortest_path_length(77697, 826021)"
      ],
      "execution_count": 0,
      "outputs": [
        {
          "output_type": "execute_result",
          "data": {
            "text/plain": [
              "10"
            ]
          },
          "metadata": {
            "tags": []
          },
          "execution_count": 18
        }
      ]
    },
    {
      "metadata": {
        "id": "EqiQy1RPX2uF",
        "colab_type": "code",
        "outputId": "7088e1bf-c058-4647-97ed-0270044ddd78",
        "colab": {
          "base_uri": "https://localhost:8080/",
          "height": 34
        }
      },
      "cell_type": "code",
      "source": [
        "#testing\n",
        "compute_shortest_path_length(669354,1635354)"
      ],
      "execution_count": 0,
      "outputs": [
        {
          "output_type": "execute_result",
          "data": {
            "text/plain": [
              "-1"
            ]
          },
          "metadata": {
            "tags": []
          },
          "execution_count": 19
        }
      ]
    },
    {
      "metadata": {
        "id": "WtxZtcA5ZXP1",
        "colab_type": "text"
      },
      "cell_type": "markdown",
      "source": [
        "####  4.2 Checking for same community"
      ]
    },
    {
      "metadata": {
        "id": "j3yTnVUMX2rx",
        "colab_type": "code",
        "colab": {}
      },
      "cell_type": "code",
      "source": [
        "#getting weekly connected edges from graph \n",
        "wcc=list(nx.weakly_connected_components(train_graph))\n",
        "def belongs_to_same_wcc(a,b):\n",
        "    index = []\n",
        "    if train_graph.has_edge(b,a):\n",
        "        return 1\n",
        "    if train_graph.has_edge(a,b):\n",
        "            for i in wcc:\n",
        "                if a in i:\n",
        "                    index= i\n",
        "                    break\n",
        "            if (b in index):\n",
        "                train_graph.remove_edge(a,b)\n",
        "                if compute_shortest_path_length(a,b)==-1:\n",
        "                    train_graph.add_edge(a,b)\n",
        "                    return 0\n",
        "                else:\n",
        "                    train_graph.add_edge(a,b)\n",
        "                    return 1\n",
        "            else:\n",
        "                return 0\n",
        "    else:\n",
        "            for i in wcc:\n",
        "                if a in i:\n",
        "                    index= i\n",
        "                    break\n",
        "            if(b in index):\n",
        "                return 1\n",
        "            else:\n",
        "                return 0"
      ],
      "execution_count": 0,
      "outputs": []
    },
    {
      "metadata": {
        "id": "M6oAnSyGX2o4",
        "colab_type": "code",
        "outputId": "f0f0a885-794b-4e58-ed09-f9d01571c30f",
        "colab": {
          "base_uri": "https://localhost:8080/",
          "height": 34
        }
      },
      "cell_type": "code",
      "source": [
        "belongs_to_same_wcc(861, 1659750)"
      ],
      "execution_count": 0,
      "outputs": [
        {
          "output_type": "execute_result",
          "data": {
            "text/plain": [
              "0"
            ]
          },
          "metadata": {
            "tags": []
          },
          "execution_count": 21
        }
      ]
    },
    {
      "metadata": {
        "id": "VbJw8C2PZlHt",
        "colab_type": "text"
      },
      "cell_type": "markdown",
      "source": [
        "#### 4.3 Adamic/Adar Index:\n",
        "Adamic/Adar measures is defined as inverted sum of degrees of common neighbours for given two vertices.\n",
        "$$A(x,y)=\\sum_{u \\in N(x) \\cap N(y)}\\frac{1}{log(|N(u)|)}$$"
      ]
    },
    {
      "metadata": {
        "id": "1BZ7kZmDX2mi",
        "colab_type": "code",
        "colab": {}
      },
      "cell_type": "code",
      "source": [
        "#adar index\n",
        "def calc_adar_in(a,b):\n",
        "    sum=0\n",
        "    try:\n",
        "        n=list(set(train_graph.successors(a)).intersection(set(train_graph.successors(b))))\n",
        "        if len(n)!=0:\n",
        "            for i in n:\n",
        "                sum=sum+(1/np.log10(len(list(train_graph.predecessors(i)))))\n",
        "            return sum\n",
        "        else:\n",
        "            return 0\n",
        "    except:\n",
        "        return 0"
      ],
      "execution_count": 0,
      "outputs": []
    },
    {
      "metadata": {
        "id": "8FBWKfrAZln9",
        "colab_type": "code",
        "outputId": "039453d6-0d28-4796-cfd5-4597fa668993",
        "colab": {
          "base_uri": "https://localhost:8080/",
          "height": 34
        }
      },
      "cell_type": "code",
      "source": [
        "calc_adar_in(1,189226)"
      ],
      "execution_count": 0,
      "outputs": [
        {
          "output_type": "execute_result",
          "data": {
            "text/plain": [
              "0"
            ]
          },
          "metadata": {
            "tags": []
          },
          "execution_count": 23
        }
      ]
    },
    {
      "metadata": {
        "id": "J1wJqDv1aAr5",
        "colab_type": "text"
      },
      "cell_type": "markdown",
      "source": [
        "#### 4.4 Is persion was following back:"
      ]
    },
    {
      "metadata": {
        "id": "cJfn9721Zlv9",
        "colab_type": "code",
        "colab": {}
      },
      "cell_type": "code",
      "source": [
        "def follows_back(a,b):\n",
        "    if train_graph.has_edge(b,a):\n",
        "        return 1\n",
        "    else:\n",
        "        return 0"
      ],
      "execution_count": 0,
      "outputs": []
    },
    {
      "metadata": {
        "id": "D8W6ATUDZl0y",
        "colab_type": "code",
        "outputId": "9fa589ee-eeb3-4d9e-ae37-46ea37505616",
        "colab": {
          "base_uri": "https://localhost:8080/",
          "height": 34
        }
      },
      "cell_type": "code",
      "source": [
        "follows_back(1,189226)"
      ],
      "execution_count": 0,
      "outputs": [
        {
          "output_type": "execute_result",
          "data": {
            "text/plain": [
              "1"
            ]
          },
          "metadata": {
            "tags": []
          },
          "execution_count": 25
        }
      ]
    },
    {
      "metadata": {
        "id": "btc7MxVTaQCc",
        "colab_type": "text"
      },
      "cell_type": "markdown",
      "source": [
        "#### 4.5 Katz Centrality:\n",
        "https://en.wikipedia.org/wiki/Katz_centrality\n",
        "\n",
        "https://www.geeksforgeeks.org/katz-centrality-centrality-measure/\n",
        "\n",
        " Katz centrality computes the centrality for a node \n",
        "    based on the centrality of its neighbors. It is a \n",
        "    generalization of the eigenvector centrality. The\n",
        "    Katz centrality for node `i` is\n",
        " \n",
        "$$x_i = \\alpha \\sum_{j} A_{ij} x_j + \\beta,$$\n",
        "where `A` is the adjacency matrix of the graph G \n",
        "with eigenvalues $$\\lambda$$.\n",
        "\n",
        "The parameter $$\\beta$$ controls the initial centrality and \n",
        "\n",
        "$$\\alpha < \\frac{1}{\\lambda_{max}}.$$"
      ]
    },
    {
      "metadata": {
        "id": "ad_f5NjyZl9M",
        "colab_type": "code",
        "colab": {}
      },
      "cell_type": "code",
      "source": [
        "if not os.path.isfile('/content/drive/My Drive/Colab Notebooks/data_facebook/fea_sample/katz.p'):\n",
        "    katz = nx.katz.katz_centrality(train_graph,alpha=0.005,beta=1)\n",
        "    pickle.dump(katz,open('/content/drive/My Drive/Colab Notebooks/data_facebook/fea_sample/katz.p','wb'))\n",
        "else:\n",
        "    katz = pickle.load(open('/content/drive/My Drive/Colab Notebooks/data_facebook/fea_sample/katz.p','rb'))"
      ],
      "execution_count": 0,
      "outputs": []
    },
    {
      "metadata": {
        "id": "JZRmboNpZl6z",
        "colab_type": "code",
        "colab": {}
      },
      "cell_type": "code",
      "source": [
        "print('min',katz[min(katz, key=katz.get)])\n",
        "print('max',katz[max(katz, key=katz.get)])\n",
        "print('mean',float(sum(katz.values())) / len(katz))"
      ],
      "execution_count": 0,
      "outputs": []
    },
    {
      "metadata": {
        "id": "hXGKEQpZZlt0",
        "colab_type": "code",
        "outputId": "af3766a3-2598-4b33-db43-be1f5936dcb3",
        "colab": {
          "base_uri": "https://localhost:8080/",
          "height": 34
        }
      },
      "cell_type": "code",
      "source": [
        "mean_katz = float(sum(katz.values())) / len(katz)\n",
        "print(mean_katz)"
      ],
      "execution_count": 0,
      "outputs": [
        {
          "output_type": "stream",
          "text": [
            "0.0007483800935562018\n"
          ],
          "name": "stdout"
        }
      ]
    },
    {
      "metadata": {
        "id": "jAWAsQLobJ_W",
        "colab_type": "text"
      },
      "cell_type": "markdown",
      "source": [
        "#### 4.6 Hits Score\n",
        "\n",
        "The HITS algorithm computes two numbers for a node. Authorities estimates the node value based on the incoming links. Hubs estimates the node value based on outgoing links.\n",
        "\n",
        "https://en.wikipedia.org/wiki/HITS_algorithm"
      ]
    },
    {
      "metadata": {
        "id": "cx5KuEjWZlrV",
        "colab_type": "code",
        "colab": {}
      },
      "cell_type": "code",
      "source": [
        "if not os.path.isfile('/content/drive/My Drive/Colab Notebooks/data_facebook/fea_sample/hits.p'):\n",
        "    hits = nx.hits(train_graph, max_iter=100, tol=1e-08, nstart=None, normalized=True)\n",
        "    pickle.dump(hits,open('/content/drive/My Drive/Colab Notebooks/data_facebook/fea_sample/hits.p','wb'))\n",
        "else:\n",
        "    hits = pickle.load(open('/content/drive/My Drive/Colab Notebooks/data_facebook/fea_sample/hits.p','rb'))"
      ],
      "execution_count": 0,
      "outputs": []
    },
    {
      "metadata": {
        "id": "QXtlVbDlbQpk",
        "colab_type": "code",
        "outputId": "fd815d91-455f-4200-93f9-568105c4971f",
        "colab": {
          "base_uri": "https://localhost:8080/",
          "height": 70
        }
      },
      "cell_type": "code",
      "source": [
        "print('min',hits[0][min(hits[0], key=hits[0].get)])\n",
        "print('max',hits[0][max(hits[0], key=hits[0].get)])\n",
        "print('mean',float(sum(hits[0].values())) / len(hits[0]))"
      ],
      "execution_count": 0,
      "outputs": [
        {
          "output_type": "stream",
          "text": [
            "min 0.0\n",
            "max 0.004868653378780953\n",
            "mean 5.615699699344123e-07\n"
          ],
          "name": "stdout"
        }
      ]
    },
    {
      "metadata": {
        "id": "GYeIsY_dnMxk",
        "colab_type": "text"
      },
      "cell_type": "markdown",
      "source": [
        "### 5. Preferential Attachment (Similarity measures)"
      ]
    },
    {
      "metadata": {
        "id": "bMQm1aoRnh6y",
        "colab_type": "text"
      },
      "cell_type": "markdown",
      "source": [
        "Preferential Attachment One well-known concept in social networks is that users with many friends tend to create more connections in the future. \n",
        "This is due to the fact that in some social networks, like in finance, the rich get richer.\n",
        "We estimate how ”rich” our two vertices are by calculating the multiplication between the number of friends (|Γ(x)|) or followers each vertex has.\n",
        "It may be noted that the similarity index does not require any node neighbor information;\n",
        "therefore, this similarity index has the lowest computational complexity.\n",
        "\n",
        "\\begin{equation}\n",
        "j = {|X| .| Y|} \n",
        "\\end{equation}"
      ]
    },
    {
      "metadata": {
        "id": "LyvrQTaqn6Zb",
        "colab_type": "text"
      },
      "cell_type": "markdown",
      "source": [
        "<img height=\"45px\" src=\"https://imgur.com/y3XiWyO.png\" align=\"centre\" hspace=\"200px\" vspace=\"0px\">\n",
        "\n",
        "<img height=\"250px\" src=\"https://imgur.com/gH58E0n.png\" align=\"centre\" hspace=\"200px\" vspace=\"0px\">\n",
        "\n",
        "The link between A and C is more probable than the link between A and B as C have many more neighbors than B\n",
        "\n"
      ]
    },
    {
      "metadata": {
        "id": "H0i_I9g8ngti",
        "colab_type": "code",
        "colab": {}
      },
      "cell_type": "code",
      "source": [
        "#working code\n",
        "#G= nx.barabasi_albert_graph(20,10) \n",
        "#nx.draw(G, with_labels=True) \n",
        "#plt.show() "
      ],
      "execution_count": 0,
      "outputs": []
    },
    {
      "metadata": {
        "id": "2goy0LFLsoqv",
        "colab_type": "code",
        "colab": {}
      },
      "cell_type": "code",
      "source": [
        "#preferential attachment\n",
        "\n",
        "def preferential_attachment(a,b):\n",
        "    try:\n",
        "        if len(set(train_graph.successors(a))) == 0  | len(set(train_graph.successors(b))) == 0:\n",
        "            #print(\"a\")\n",
        "            return 0\n",
        "        #print(\"d\")   \n",
        "        sim = ((math.sqrt(len(set(train_graph.successors(a)))*len(set(train_graph.successors(b))))))\n",
        "        #print(\"c\")\n",
        "    except:\n",
        "        #print(\"b\")\n",
        "        return 0\n",
        "        \n",
        "    return sim"
      ],
      "execution_count": 0,
      "outputs": []
    },
    {
      "metadata": {
        "id": "lPwgTYeRw0EV",
        "colab_type": "code",
        "outputId": "2539456a-8060-42dc-f94d-758d718285d0",
        "colab": {
          "base_uri": "https://localhost:8080/",
          "height": 34
        }
      },
      "cell_type": "code",
      "source": [
        "preferential_attachment(200,320)"
      ],
      "execution_count": 0,
      "outputs": [
        {
          "output_type": "execute_result",
          "data": {
            "text/plain": [
              "3.7416573867739413"
            ]
          },
          "metadata": {
            "tags": []
          },
          "execution_count": 8
        }
      ]
    },
    {
      "metadata": {
        "id": "Hiy3m5lJgoNA",
        "colab_type": "text"
      },
      "cell_type": "markdown",
      "source": [
        "Dot product of columns Va and Vb in low-rank approximation\n"
      ]
    },
    {
      "metadata": {
        "id": "tqI9lw3ubyP3",
        "colab_type": "text"
      },
      "cell_type": "markdown",
      "source": [
        "### 5. Featurization"
      ]
    },
    {
      "metadata": {
        "id": "Y1NPA27ARkMJ",
        "colab_type": "text"
      },
      "cell_type": "markdown",
      "source": [
        "#### 5.1  Reading a sample of Data from both train and test"
      ]
    },
    {
      "metadata": {
        "id": "PR060Yelbxb7",
        "colab_type": "code",
        "colab": {}
      },
      "cell_type": "code",
      "source": [
        "import random\n",
        "if os.path.isfile('/content/drive/My Drive/Colab Notebooks/data_facebook/train_after_eda.csv'):\n",
        "    filename = \"/content/drive/My Drive/Colab Notebooks/data_facebook/train_after_eda.csv\"\n",
        "    # you uncomment this line, if you dont know the lentgh of the file name\n",
        "    # here we have hardcoded the number of lines as 15100030\n",
        "    # n_train = sum(1 for line in open(filename)) #number of records in file (excludes header)\n",
        "    n_train =  15100028\n",
        "    s = 100000 #desired sample size\n",
        "    skip_train = sorted(random.sample(range(1,n_train+1),n_train-s))\n",
        "    #https://stackoverflow.com/a/22259008/4084039"
      ],
      "execution_count": 0,
      "outputs": []
    },
    {
      "metadata": {
        "id": "dvNTVUNRbQwz",
        "colab_type": "code",
        "colab": {}
      },
      "cell_type": "code",
      "source": [
        "if os.path.isfile('/content/drive/My Drive/Colab Notebooks/data_facebook/test_after_eda.csv'):\n",
        "    filename = \"/content/drive/My Drive/Colab Notebooks/data_facebook/test_after_eda.csv\"\n",
        "    # you uncomment this line, if you dont know the lentgh of the file name\n",
        "    # here we have hardcoded the number of lines as 3775008\n",
        "    # n_test = sum(1 for line in open(filename)) #number of records in file (excludes header)\n",
        "    n_test = 3775006\n",
        "    s = 50000 #desired sample size\n",
        "    skip_test = sorted(random.sample(range(1,n_test+1),n_test-s))\n",
        "    #https://stackoverflow.com/a/22259008/4084039"
      ],
      "execution_count": 0,
      "outputs": []
    },
    {
      "metadata": {
        "id": "x9oHC_sGbQ3c",
        "colab_type": "code",
        "outputId": "773ca9b2-3b66-4e21-abb4-147addafb076",
        "colab": {
          "base_uri": "https://localhost:8080/",
          "height": 87
        }
      },
      "cell_type": "code",
      "source": [
        "print(\"Number of rows in the train data file:\", n_train)\n",
        "print(\"Number of rows we are going to elimiate in train data are\",len(skip_train))\n",
        "print(\"Number of rows in the test data file:\", n_test)\n",
        "print(\"Number of rows we are going to elimiate in test data are\",len(skip_test))"
      ],
      "execution_count": 0,
      "outputs": [
        {
          "output_type": "stream",
          "text": [
            "Number of rows in the train data file: 15100028\n",
            "Number of rows we are going to elimiate in train data are 15000028\n",
            "Number of rows in the test data file: 3775006\n",
            "Number of rows we are going to elimiate in test data are 3725006\n"
          ],
          "name": "stdout"
        }
      ]
    },
    {
      "metadata": {
        "id": "U-qi-MTzbRL0",
        "colab_type": "code",
        "outputId": "75efbefc-0ce3-43bd-f0cc-6eda2831fe40",
        "colab": {
          "base_uri": "https://localhost:8080/",
          "height": 125
        }
      },
      "cell_type": "code",
      "source": [
        "df_final_train = pd.read_csv('/content/drive/My Drive/Colab Notebooks/data_facebook/train_after_eda.csv', skiprows=skip_train, names=['source_node', 'destination_node'])\n",
        "df_final_train['indicator_link'] = pd.read_csv('/content/drive/My Drive/Colab Notebooks/data_facebook/train_y.csv', skiprows=skip_train, names=['indicator_link'])\n",
        "print(\"Our train matrix size \",df_final_train.shape)\n",
        "df_final_train.head(2)"
      ],
      "execution_count": 0,
      "outputs": [
        {
          "output_type": "stream",
          "text": [
            "Our train matrix size  (100002, 3)\n"
          ],
          "name": "stdout"
        },
        {
          "output_type": "execute_result",
          "data": {
            "text/html": [
              "<div>\n",
              "<style scoped>\n",
              "    .dataframe tbody tr th:only-of-type {\n",
              "        vertical-align: middle;\n",
              "    }\n",
              "\n",
              "    .dataframe tbody tr th {\n",
              "        vertical-align: top;\n",
              "    }\n",
              "\n",
              "    .dataframe thead th {\n",
              "        text-align: right;\n",
              "    }\n",
              "</style>\n",
              "<table border=\"1\" class=\"dataframe\">\n",
              "  <thead>\n",
              "    <tr style=\"text-align: right;\">\n",
              "      <th></th>\n",
              "      <th>source_node</th>\n",
              "      <th>destination_node</th>\n",
              "      <th>indicator_link</th>\n",
              "    </tr>\n",
              "  </thead>\n",
              "  <tbody>\n",
              "    <tr>\n",
              "      <th>0</th>\n",
              "      <td>273084</td>\n",
              "      <td>1505602</td>\n",
              "      <td>1</td>\n",
              "    </tr>\n",
              "    <tr>\n",
              "      <th>1</th>\n",
              "      <td>707628</td>\n",
              "      <td>681447</td>\n",
              "      <td>1</td>\n",
              "    </tr>\n",
              "  </tbody>\n",
              "</table>\n",
              "</div>"
            ],
            "text/plain": [
              "   source_node  destination_node  indicator_link\n",
              "0       273084           1505602               1\n",
              "1       707628            681447               1"
            ]
          },
          "metadata": {
            "tags": []
          },
          "execution_count": 8
        }
      ]
    },
    {
      "metadata": {
        "id": "IyUzEDIgbRJr",
        "colab_type": "code",
        "outputId": "89d930f8-4dca-47f1-8d09-04ff42e1ceaa",
        "colab": {
          "base_uri": "https://localhost:8080/",
          "height": 125
        }
      },
      "cell_type": "code",
      "source": [
        "df_final_test = pd.read_csv('/content/drive/My Drive/Colab Notebooks/data_facebook/test_after_eda.csv', skiprows=skip_test, names=['source_node', 'destination_node'])\n",
        "df_final_test['indicator_link'] = pd.read_csv('/content/drive/My Drive/Colab Notebooks/data_facebook/test_y.csv', skiprows=skip_test, names=['indicator_link'])\n",
        "print(\"Our test matrix size \",df_final_test.shape)\n",
        "df_final_test.head(2)"
      ],
      "execution_count": 0,
      "outputs": [
        {
          "output_type": "stream",
          "text": [
            "Our test matrix size  (50002, 3)\n"
          ],
          "name": "stdout"
        },
        {
          "output_type": "execute_result",
          "data": {
            "text/html": [
              "<div>\n",
              "<style scoped>\n",
              "    .dataframe tbody tr th:only-of-type {\n",
              "        vertical-align: middle;\n",
              "    }\n",
              "\n",
              "    .dataframe tbody tr th {\n",
              "        vertical-align: top;\n",
              "    }\n",
              "\n",
              "    .dataframe thead th {\n",
              "        text-align: right;\n",
              "    }\n",
              "</style>\n",
              "<table border=\"1\" class=\"dataframe\">\n",
              "  <thead>\n",
              "    <tr style=\"text-align: right;\">\n",
              "      <th></th>\n",
              "      <th>source_node</th>\n",
              "      <th>destination_node</th>\n",
              "      <th>indicator_link</th>\n",
              "    </tr>\n",
              "  </thead>\n",
              "  <tbody>\n",
              "    <tr>\n",
              "      <th>0</th>\n",
              "      <td>848424</td>\n",
              "      <td>784690</td>\n",
              "      <td>1</td>\n",
              "    </tr>\n",
              "    <tr>\n",
              "      <th>1</th>\n",
              "      <td>1446582</td>\n",
              "      <td>1393749</td>\n",
              "      <td>1</td>\n",
              "    </tr>\n",
              "  </tbody>\n",
              "</table>\n",
              "</div>"
            ],
            "text/plain": [
              "   source_node  destination_node  indicator_link\n",
              "0       848424            784690               1\n",
              "1      1446582           1393749               1"
            ]
          },
          "metadata": {
            "tags": []
          },
          "execution_count": 9
        }
      ]
    },
    {
      "metadata": {
        "id": "T47RqDl7Szp9",
        "colab_type": "text"
      },
      "cell_type": "markdown",
      "source": [
        "#### 5.2 Adding a set of features\n",
        "\n",
        "__we will create these each of these features for both train and test data points__\n",
        "<ol>\n",
        "<li>jaccard_followers</li>\n",
        "<li>jaccard_followees</li>\n",
        "<li>cosine_followers</li>\n",
        "<li>cosine_followees</li>\n",
        "<li>num_followers_s</li>\n",
        "<li>num_followees_s</li>\n",
        "<li>num_followers_d</li>\n",
        "<li>num_followees_d</li>\n",
        "<li>inter_followers</li>\n",
        "<li>inter_followees</li>\n",
        "</ol>"
      ]
    },
    {
      "metadata": {
        "id": "wNNkHDl1bRFG",
        "colab_type": "code",
        "colab": {}
      },
      "cell_type": "code",
      "source": [
        "if not os.path.isfile('/content/drive/My Drive/Colab Notebooks/data_facebook/fea_sample/storage_sample_stage1.h5'):\n",
        "  \n",
        "    #mapping jaccrd followers to train and test data\n",
        "    df_final_train['jaccard_followers'] = df_final_train.apply(lambda row:jaccard_for_followers(row['source_node'],row['destination_node']),axis=1)\n",
        "    df_final_test['jaccard_followers'] = df_final_test.apply(lambda row:jaccard_for_followers(row['source_node'],row['destination_node']),axis=1)\n",
        "\n",
        "    #mapping jaccrd followees to train and test data\n",
        "    df_final_train['jaccard_followees'] = df_final_train.apply(lambda row:jaccard_for_followees(row['source_node'],row['destination_node']),axis=1)\n",
        "    df_final_test['jaccard_followees'] = df_final_test.apply(lambda row:jaccard_for_followees(row['source_node'],row['destination_node']),axis=1)\n",
        "    \n",
        "\n",
        "    #mapping jaccrd followers to train and test data\n",
        "    df_final_train['cosine_followers'] = df_final_train.apply(lambda row:cosine_for_followers(row['source_node'],row['destination_node']),axis=1)\n",
        "    df_final_test['cosine_followers'] = df_final_test.apply(lambda row:cosine_for_followers(row['source_node'],row['destination_node']),axis=1)\n",
        "\n",
        "    #mapping jaccrd followees to train and test data\n",
        "    df_final_train['cosine_followees'] = df_final_train.apply(lambda row:cosine_for_followees(row['source_node'],row['destination_node']),axis=1)\n",
        "    df_final_test['cosine_followees'] = df_final_test.apply(lambda row:cosine_for_followees(row['source_node'],row['destination_node']),axis=1)"
      ],
      "execution_count": 0,
      "outputs": []
    },
    {
      "metadata": {
        "id": "4-IBqcvzbRA6",
        "colab_type": "code",
        "colab": {}
      },
      "cell_type": "code",
      "source": [
        "def compute_features_stage1(df_final):\n",
        "    #calculating no of followers followees for source and destination\n",
        "    #calculating intersection of followers and followees for source and destination\n",
        "    num_followers_s=[]\n",
        "    num_followees_s=[]\n",
        "    num_followers_d=[]\n",
        "    num_followees_d=[]\n",
        "    inter_followers=[]\n",
        "    inter_followees=[]\n",
        "    for i,row in df_final.iterrows():\n",
        "        try:\n",
        "            s1=set(train_graph.predecessors(row['source_node']))\n",
        "            s2=set(train_graph.successors(row['source_node']))\n",
        "        except:\n",
        "            s1 = set()\n",
        "            s2 = set()\n",
        "        try:\n",
        "            d1=set(train_graph.predecessors(row['destination_node']))\n",
        "            d2=set(train_graph.successors(row['destination_node']))\n",
        "        except:\n",
        "            d1 = set()\n",
        "            d2 = set()\n",
        "        num_followers_s.append(len(s1))\n",
        "        num_followees_s.append(len(s2))\n",
        "\n",
        "        num_followers_d.append(len(d1))\n",
        "        num_followees_d.append(len(d2))\n",
        "\n",
        "        inter_followers.append(len(s1.intersection(d1)))\n",
        "        inter_followees.append(len(s2.intersection(d2)))\n",
        "    \n",
        "    return num_followers_s, num_followees_s, num_followers_d, num_followees_d, inter_followers, inter_followees"
      ],
      "execution_count": 0,
      "outputs": []
    },
    {
      "metadata": {
        "id": "n9y62Cv4bQ-C",
        "colab_type": "code",
        "outputId": "69ffc9d7-0f28-452c-887b-9d37cb1d5186",
        "colab": {
          "base_uri": "https://localhost:8080/",
          "height": 70
        }
      },
      "cell_type": "code",
      "source": [
        "%%time\n",
        "if not os.path.isfile('/content/drive/My Drive/Colab Notebooks/data_facebook/fea_sample/storage_sample_stage1.h5'):\n",
        "    print(\"a\")\n",
        "    df_final_train['num_followers_s'], df_final_train['num_followees_s'], \\\n",
        "    df_final_train['num_followers_d'], df_final_train['num_followees_d'], \\\n",
        "    df_final_train['inter_followers'], df_final_train['inter_followees']= compute_features_stage1(df_final_train)\n",
        "    \n",
        "    df_final_test['num_followers_s'], df_final_test['num_followees_s'], \\\n",
        "    df_final_test['num_followers_d'], df_final_test['num_followees_d'], \\\n",
        "    df_final_test['inter_followers'], df_final_test['inter_followees']= compute_features_stage1(df_final_test)\n",
        "    \n",
        "    hdf = HDFStore('/content/drive/My Drive/Colab Notebooks/data_facebook/storage_sample_stage1.h5')\n",
        "    hdf.put('train_df',df_final_train, format='table', data_columns=True)\n",
        "    hdf.put('test_df',df_final_test, format='table', data_columns=True)\n",
        "    hdf.close()\n",
        "else:\n",
        "    print(\"b\")\n",
        "    df_final_train = read_hdf('/content/drive/My Drive/Colab Notebooks/data_facebook/fea_sample/storage_sample_stage1.h5', 'train_df',mode='r')\n",
        "    df_final_test = read_hdf('/content/drive/My Drive/Colab Notebooks/data_facebook/fea_sample/storage_sample_stage1.h5', 'test_df',mode='r')"
      ],
      "execution_count": 0,
      "outputs": [
        {
          "output_type": "stream",
          "text": [
            "b\n",
            "CPU times: user 158 ms, sys: 26 ms, total: 184 ms\n",
            "Wall time: 221 ms\n"
          ],
          "name": "stdout"
        }
      ]
    },
    {
      "metadata": {
        "id": "rs-SR56iapkb",
        "colab_type": "text"
      },
      "cell_type": "markdown",
      "source": [
        "#### 5.3 Adding new set of features\n",
        "\n",
        "__we will create these each of these features for both train and test data points__\n",
        "<ol>\n",
        "<li>adar index</li>\n",
        "<li>is following back</li>\n",
        "<li>belongs to same weakly connect components</li>\n",
        "<li>shortest path between source and destination</li>\n",
        "</ol>"
      ]
    },
    {
      "metadata": {
        "id": "m6yw9gd0bQ7z",
        "colab_type": "code",
        "outputId": "ba34983d-a894-45f3-e761-7aa8e66f2103",
        "colab": {
          "base_uri": "https://localhost:8080/",
          "height": 34
        }
      },
      "cell_type": "code",
      "source": [
        "if not os.path.isfile('/content/drive/My Drive/Colab Notebooks/data_facebook/fea_sample/storage_sample_stage2.h5'):\n",
        "    #mapping adar index on train\n",
        "    df_final_train['adar_index'] = df_final_train.apply(lambda row: calc_adar_in(row['source_node'],row['destination_node']),axis=1)\n",
        "    #mapping adar index on test\n",
        "    df_final_test['adar_index'] = df_final_test.apply(lambda row: calc_adar_in(row['source_node'],row['destination_node']),axis=1)\n",
        "\n",
        "    #--------------------------------------------------------------------------------------------------------\n",
        "    #mapping followback or not on train\n",
        "    df_final_train['follows_back'] = df_final_train.apply(lambda row: follows_back(row['source_node'],row['destination_node']),axis=1)\n",
        "\n",
        "    #mapping followback or not on test\n",
        "    df_final_test['follows_back'] = df_final_test.apply(lambda row: follows_back(row['source_node'],row['destination_node']),axis=1)\n",
        "\n",
        "    #--------------------------------------------------------------------------------------------------------\n",
        "    #mapping same component of wcc or not on train\n",
        "    df_final_train['same_comp'] = df_final_train.apply(lambda row: belongs_to_same_wcc(row['source_node'],row['destination_node']),axis=1)\n",
        "\n",
        "    ##mapping same component of wcc or not on train\n",
        "    df_final_test['same_comp'] = df_final_test.apply(lambda row: belongs_to_same_wcc(row['source_node'],row['destination_node']),axis=1)\n",
        "    \n",
        "    #--------------------------------------------------------------------------------------------------------\n",
        "    #mapping shortest path on train \n",
        "    df_final_train['shortest_path'] = df_final_train.apply(lambda row: compute_shortest_path_length(row['source_node'],row['destination_node']),axis=1)\n",
        "    #mapping shortest path on test\n",
        "    df_final_test['shortest_path'] = df_final_test.apply(lambda row: compute_shortest_path_length(row['source_node'],row['destination_node']),axis=1)\n",
        "\n",
        "    hdf = HDFStore('/content/drive/My Drive/Colab Notebooks/data_facebook/fea_sample/storage_sample_stage2.h5')\n",
        "    hdf.put('train_df',df_final_train, format='table', data_columns=True)\n",
        "    hdf.put('test_df',df_final_test, format='table', data_columns=True)\n",
        "    hdf.close()\n",
        "else:\n",
        "    print(\"Already Existed\")\n",
        "    df_final_train = read_hdf('/content/drive/My Drive/Colab Notebooks/data_facebook/fea_sample/storage_sample_stage2.h5', 'train_df',mode='r')\n",
        "    df_final_test = read_hdf('/content/drive/My Drive/Colab Notebooks/data_facebook/fea_sample/storage_sample_stage2.h5', 'test_df',mode='r')"
      ],
      "execution_count": 0,
      "outputs": [
        {
          "output_type": "stream",
          "text": [
            "Already Existed\n"
          ],
          "name": "stdout"
        }
      ]
    },
    {
      "metadata": {
        "id": "vk86tD7Ja7kV",
        "colab_type": "text"
      },
      "cell_type": "markdown",
      "source": [
        "#### 5.4 Adding new set of features\n",
        "\n",
        "__we will create these each of these features for both train and test data points__\n",
        "<ol>\n",
        "<li>Weight Features\n",
        "    <ul>\n",
        "        <li>weight of incoming edges</li>\n",
        "        <li>weight of outgoing edges</li>\n",
        "        <li>weight of incoming edges + weight of outgoing edges</li>\n",
        "        <li>weight of incoming edges * weight of outgoing edges</li>\n",
        "        <li>2*weight of incoming edges + weight of outgoing edges</li>\n",
        "        <li>weight of incoming edges + 2*weight of outgoing edges</li>\n",
        "    </ul>\n",
        "</li>\n",
        "<li>Page Ranking of source</li>\n",
        "<li>Page Ranking of dest</li>\n",
        "# <li>katz of source</li>\n",
        "<li>katz of dest</li>\n",
        "<li>hubs of source</li>\n",
        "<li>hubs of dest</li>\n",
        "<li>authorities_s of source</li>\n",
        "<li>authorities_s of dest</li>\n",
        "</ol>"
      ]
    },
    {
      "metadata": {
        "id": "5mCxcOKgbFIk",
        "colab_type": "text"
      },
      "cell_type": "markdown",
      "source": [
        "##### Weight Features"
      ]
    },
    {
      "metadata": {
        "id": "AFnIJ86fbHc_",
        "colab_type": "text"
      },
      "cell_type": "markdown",
      "source": [
        "In order to determine the similarity of nodes, an edge weight value was calculated between nodes. Edge weight decreases as the neighbor count goes up. Intuitively, consider one million people following a celebrity on a social network then chances are most of them never met each other or the celebrity. On the other hand, if a user has 30 contacts in his/her social network, the chances are higher that many of them know each other. \n",
        "`credit` - Graph-based Features for Supervised Link Prediction\n",
        "William Cukierski, Benjamin Hamner, Bo Yang\n",
        "\n",
        "\\begin{equation}\n",
        "W = \\frac{1}{\\sqrt{1+|X|}}\n",
        "\\end{equation}\n",
        "\n",
        "it is directed graph so calculated Weighted in and Weighted out differently"
      ]
    },
    {
      "metadata": {
        "id": "XfoUAjEvaz6i",
        "colab_type": "code",
        "outputId": "3cc473a0-3ff6-4ba8-8a11-30e91efd40f1",
        "colab": {
          "base_uri": "https://localhost:8080/",
          "height": 70
        }
      },
      "cell_type": "code",
      "source": [
        "%%time\n",
        "#weight for source and destination of each link\n",
        "Weight_in = {}\n",
        "Weight_out = {}\n",
        "for i in  tqdm(train_graph.nodes()):\n",
        "    s1=set(train_graph.predecessors(i))\n",
        "    w_in = 1.0/(np.sqrt(1+len(s1)))\n",
        "    Weight_in[i]=w_in\n",
        "    \n",
        "    s2=set(train_graph.successors(i))\n",
        "    w_out = 1.0/(np.sqrt(1+len(s2)))\n",
        "    Weight_out[i]=w_out\n",
        "    \n",
        "#for imputing with mean\n",
        "mean_weight_in = np.mean(list(Weight_in.values()))\n",
        "mean_weight_out = np.mean(list(Weight_out.values()))"
      ],
      "execution_count": 0,
      "outputs": [
        {
          "output_type": "stream",
          "text": [
            "100%|██████████| 1780722/1780722 [00:17<00:00, 99947.76it/s] \n"
          ],
          "name": "stderr"
        },
        {
          "output_type": "stream",
          "text": [
            "CPU times: user 17.8 s, sys: 362 ms, total: 18.2 s\n",
            "Wall time: 18.2 s\n"
          ],
          "name": "stdout"
        }
      ]
    },
    {
      "metadata": {
        "id": "DC379ZNVa0El",
        "colab_type": "code",
        "outputId": "1cc0ea95-a05e-4074-fdea-6337a37458eb",
        "colab": {
          "base_uri": "https://localhost:8080/",
          "height": 34
        }
      },
      "cell_type": "code",
      "source": [
        "if not os.path.isfile('/content/drive/My Drive/Colab Notebooks/data_facebook/fea_sample/storage_sample_stage3.h5'):\n",
        "    #mapping to pandas train\n",
        "    df_final_train['weight_in'] = df_final_train.destination_node.apply(lambda x: Weight_in.get(x,mean_weight_in))\n",
        "    df_final_train['weight_out'] = df_final_train.source_node.apply(lambda x: Weight_out.get(x,mean_weight_out))\n",
        "\n",
        "    #mapping to pandas test\n",
        "    df_final_test['weight_in'] = df_final_test.destination_node.apply(lambda x: Weight_in.get(x,mean_weight_in))\n",
        "    df_final_test['weight_out'] = df_final_test.source_node.apply(lambda x: Weight_out.get(x,mean_weight_out))\n",
        "\n",
        "\n",
        "    #some features engineerings on the in and out weights\n",
        "    df_final_train['weight_f1'] = df_final_train.weight_in + df_final_train.weight_out\n",
        "    df_final_train['weight_f2'] = df_final_train.weight_in * df_final_train.weight_out\n",
        "    df_final_train['weight_f3'] = (2*df_final_train.weight_in + 1*df_final_train.weight_out)\n",
        "    df_final_train['weight_f4'] = (1*df_final_train.weight_in + 2*df_final_train.weight_out)\n",
        "\n",
        "    #some features engineerings on the in and out weights\n",
        "    df_final_test['weight_f1'] = df_final_test.weight_in + df_final_test.weight_out\n",
        "    df_final_test['weight_f2'] = df_final_test.weight_in * df_final_test.weight_out\n",
        "    df_final_test['weight_f3'] = (2*df_final_test.weight_in + 1*df_final_test.weight_out)\n",
        "    df_final_test['weight_f4'] = (1*df_final_test.weight_in + 2*df_final_test.weight_out)\n",
        "    \n",
        "else:\n",
        "  \n",
        "  print(\"Already Existed\")"
      ],
      "execution_count": 0,
      "outputs": [
        {
          "output_type": "stream",
          "text": [
            "Already Existed\n"
          ],
          "name": "stdout"
        }
      ]
    },
    {
      "metadata": {
        "id": "nInDW4EHa0A6",
        "colab_type": "code",
        "colab": {}
      },
      "cell_type": "code",
      "source": [
        "if not os.path.isfile('/content/drive/My Drive/Colab Notebooks/data_facebook/fea_sample/storage_sample_stage3.h5'):\n",
        "    \n",
        "    #page rank for source and destination in Train and Test\n",
        "    #if anything not there in train graph then adding mean page rank \n",
        "    df_final_train['page_rank_s'] = df_final_train.source_node.apply(lambda x:pr.get(x,mean_pr))\n",
        "    df_final_train['page_rank_d'] = df_final_train.destination_node.apply(lambda x:pr.get(x,mean_pr))\n",
        "\n",
        "    df_final_test['page_rank_s'] = df_final_test.source_node.apply(lambda x:pr.get(x,mean_pr))\n",
        "    df_final_test['page_rank_d'] = df_final_test.destination_node.apply(lambda x:pr.get(x,mean_pr))\n",
        "    #================================================================================\n",
        "\n",
        "    #Katz centrality score for source and destination in Train and test\n",
        "    #if anything not there in train graph then adding mean katz score\n",
        "    df_final_train['katz_s'] = df_final_train.source_node.apply(lambda x: katz.get(x,mean_katz))\n",
        "    df_final_train['katz_d'] = df_final_train.destination_node.apply(lambda x: katz.get(x,mean_katz))\n",
        "\n",
        "    df_final_test['katz_s'] = df_final_test.source_node.apply(lambda x: katz.get(x,mean_katz))\n",
        "    df_final_test['katz_d'] = df_final_test.destination_node.apply(lambda x: katz.get(x,mean_katz))\n",
        "    #================================================================================\n",
        "\n",
        "    #Hits algorithm score for source and destination in Train and test\n",
        "    #if anything not there in train graph then adding 0\n",
        "    df_final_train['hubs_s'] = df_final_train.source_node.apply(lambda x: hits[0].get(x,0))\n",
        "    df_final_train['hubs_d'] = df_final_train.destination_node.apply(lambda x: hits[0].get(x,0))\n",
        "\n",
        "    df_final_test['hubs_s'] = df_final_test.source_node.apply(lambda x: hits[0].get(x,0))\n",
        "    df_final_test['hubs_d'] = df_final_test.destination_node.apply(lambda x: hits[0].get(x,0))\n",
        "    #================================================================================\n",
        "\n",
        "    #Hits algorithm score for source and destination in Train and Test\n",
        "    #if anything not there in train graph then adding 0\n",
        "    df_final_train['authorities_s'] = df_final_train.source_node.apply(lambda x: hits[1].get(x,0))\n",
        "    df_final_train['authorities_d'] = df_final_train.destination_node.apply(lambda x: hits[1].get(x,0))\n",
        "\n",
        "    df_final_test['authorities_s'] = df_final_test.source_node.apply(lambda x: hits[1].get(x,0))\n",
        "    df_final_test['authorities_d'] = df_final_test.destination_node.apply(lambda x: hits[1].get(x,0))\n",
        "    #================================================================================\n",
        "\n",
        "    hdf = HDFStore('data/fea_sample/storage_sample_stage3.h5')\n",
        "    hdf.put('train_df',df_final_train, format='table', data_columns=True)\n",
        "    hdf.put('test_df',df_final_test, format='table', data_columns=True)\n",
        "    hdf.close()\n",
        "else:\n",
        "    hdf.close()\n",
        "    df_final_train = read_hdf('/content/drive/My Drive/Colab Notebooks/data_facebook/fea_sample/storage_sample_stage3.h5', 'train_df',mode='r')\n",
        "    df_final_test = read_hdf('/content/drive/My Drive/Colab Notebooks/data_facebook/fea_sample/storage_sample_stage3.h5', 'test_df',mode='r')\n",
        "    hdf.close()"
      ],
      "execution_count": 0,
      "outputs": []
    },
    {
      "metadata": {
        "id": "6A5zP_-YbeTR",
        "colab_type": "text"
      },
      "cell_type": "markdown",
      "source": [
        "#### 5.5 Adding new set of features\n",
        "\n",
        "__we will create these each of these features for both train and test data points__\n",
        "<ol>\n",
        "<li>SVD features for both source and destination</li>\n",
        "</ol>"
      ]
    },
    {
      "metadata": {
        "id": "NTOUoKVmaz-X",
        "colab_type": "code",
        "colab": {}
      },
      "cell_type": "code",
      "source": [
        "def svd(x, S):\n",
        "    try:\n",
        "        z = sadj_dict[x]\n",
        "        return S[z]\n",
        "    except:\n",
        "        return [0,0,0,0,0,0]"
      ],
      "execution_count": 0,
      "outputs": []
    },
    {
      "metadata": {
        "id": "eoZrVVa-bbUd",
        "colab_type": "code",
        "colab": {}
      },
      "cell_type": "code",
      "source": [
        "#for svd features to get feature vector creating a dict node val and index in svd vector\n",
        "sadj_col = sorted(train_graph.nodes())\n",
        "sadj_dict = { val:idx for idx,val in enumerate(sadj_col)}"
      ],
      "execution_count": 0,
      "outputs": []
    },
    {
      "metadata": {
        "id": "y1Bk7vpEbbYW",
        "colab_type": "code",
        "colab": {}
      },
      "cell_type": "code",
      "source": [
        "Adj = nx.adjacency_matrix(train_graph,nodelist=sorted(train_graph.nodes())).asfptype()"
      ],
      "execution_count": 0,
      "outputs": []
    },
    {
      "metadata": {
        "id": "Bp_kqm1JbbR_",
        "colab_type": "code",
        "outputId": "417cc064-4b3c-4412-9c85-62cd2f1c2de5",
        "colab": {
          "base_uri": "https://localhost:8080/",
          "height": 87
        }
      },
      "cell_type": "code",
      "source": [
        "U, s, V = svds(Adj, k = 6)\n",
        "print('Adjacency matrix Shape',Adj.shape)\n",
        "print('U Shape',U.shape)\n",
        "print('V Shape',V.shape)\n",
        "print('s Shape',s.shape)"
      ],
      "execution_count": 0,
      "outputs": [
        {
          "output_type": "stream",
          "text": [
            "Adjacency matrix Shape (1780722, 1780722)\n",
            "U Shape (1780722, 6)\n",
            "V Shape (6, 1780722)\n",
            "s Shape (6,)\n"
          ],
          "name": "stdout"
        }
      ]
    },
    {
      "metadata": {
        "id": "1b8kPm9AcJ6B",
        "colab_type": "code",
        "outputId": "9e7a2383-44fd-47c0-8400-5689bd12f077",
        "colab": {
          "base_uri": "https://localhost:8080/",
          "height": 34
        }
      },
      "cell_type": "code",
      "source": [
        "if not os.path.isfile('/content/drive/My Drive/Colab Notebooks/data_facebook/fea_sample/storage_sample_stage4.h5'):\n",
        "    #===================================================================================================\n",
        "    \n",
        "    df_final_train[['svd_u_s_1', 'svd_u_s_2','svd_u_s_3', 'svd_u_s_4', 'svd_u_s_5', 'svd_u_s_6']] = \\\n",
        "    df_final_train.source_node.apply(lambda x: svd(x, U)).apply(pd.Series)\n",
        "    \n",
        "    df_final_train[['svd_u_d_1', 'svd_u_d_2', 'svd_u_d_3', 'svd_u_d_4', 'svd_u_d_5','svd_u_d_6']] = \\\n",
        "    df_final_train.destination_node.apply(lambda x: svd(x, U)).apply(pd.Series)\n",
        "    #===================================================================================================\n",
        "    \n",
        "    df_final_train[['svd_v_s_1','svd_v_s_2', 'svd_v_s_3', 'svd_v_s_4', 'svd_v_s_5', 'svd_v_s_6',]] = \\\n",
        "    df_final_train.source_node.apply(lambda x: svd(x, V.T)).apply(pd.Series)\n",
        "\n",
        "    df_final_train[['svd_v_d_1', 'svd_v_d_2', 'svd_v_d_3', 'svd_v_d_4', 'svd_v_d_5','svd_v_d_6']] = \\\n",
        "    df_final_train.destination_node.apply(lambda x: svd(x, V.T)).apply(pd.Series)\n",
        "    #===================================================================================================\n",
        "    \n",
        "    df_final_test[['svd_u_s_1', 'svd_u_s_2','svd_u_s_3', 'svd_u_s_4', 'svd_u_s_5', 'svd_u_s_6']] = \\\n",
        "    df_final_test.source_node.apply(lambda x: svd(x, U)).apply(pd.Series)\n",
        "    \n",
        "    df_final_test[['svd_u_d_1', 'svd_u_d_2', 'svd_u_d_3', 'svd_u_d_4', 'svd_u_d_5','svd_u_d_6']] = \\\n",
        "    df_final_test.destination_node.apply(lambda x: svd(x, U)).apply(pd.Series)\n",
        "\n",
        "    #===================================================================================================\n",
        "    \n",
        "    df_final_test[['svd_v_s_1','svd_v_s_2', 'svd_v_s_3', 'svd_v_s_4', 'svd_v_s_5', 'svd_v_s_6',]] = \\\n",
        "    df_final_test.source_node.apply(lambda x: svd(x, V.T)).apply(pd.Series)\n",
        "\n",
        "    df_final_test[['svd_v_d_1', 'svd_v_d_2', 'svd_v_d_3', 'svd_v_d_4', 'svd_v_d_5','svd_v_d_6']] = \\\n",
        "    df_final_test.destination_node.apply(lambda x: svd(x, V.T)).apply(pd.Series)\n",
        "    #===================================================================================================\n",
        "\n",
        "    hdf = HDFStore('/content/drive/My Drive/Colab Notebooks/data_facebook/fea_sample/storage_sample_stage4.h5')\n",
        "    hdf.put('train_df',df_final_train, format='table', data_columns=True)\n",
        "    hdf.put('test_df',df_final_test, format='table', data_columns=True)\n",
        "    hdf.close()\n",
        "    \n",
        "else:\n",
        "  \n",
        "  print(\"Already Existed\")"
      ],
      "execution_count": 0,
      "outputs": [
        {
          "output_type": "stream",
          "text": [
            "Already Existed\n"
          ],
          "name": "stdout"
        }
      ]
    },
    {
      "metadata": {
        "id": "wEwhyDNE45vC",
        "colab_type": "text"
      },
      "cell_type": "markdown",
      "source": [
        "#### 5.6 Adding New Feature preferential_attachment"
      ]
    },
    {
      "metadata": {
        "id": "pli2yvf4AJzI",
        "colab_type": "code",
        "colab": {}
      },
      "cell_type": "code",
      "source": [
        "#reading from file \n",
        "from pandas import read_hdf\n",
        "df_final_train = read_hdf('/content/drive/My Drive/Colab Notebooks/data_facebook/fea_sample/storage_sample_stage4.h5', 'train_df',mode='r')\n",
        "df_final_test = read_hdf('/content/drive/My Drive/Colab Notebooks/data_facebook/fea_sample/storage_sample_stage4.h5', 'test_df',mode='r')"
      ],
      "execution_count": 0,
      "outputs": []
    },
    {
      "metadata": {
        "id": "ZmcrSOGuG_YJ",
        "colab_type": "code",
        "colab": {}
      },
      "cell_type": "code",
      "source": [
        "#creating new file\n",
        "with open('/content/drive/My Drive/Colab Notebooks/data_facebook/storage_sample_stage5.h5', 'w') as f:\n",
        "  f.write('content')"
      ],
      "execution_count": 0,
      "outputs": []
    },
    {
      "metadata": {
        "id": "4xD7I4LDcJ30",
        "colab_type": "code",
        "colab": {}
      },
      "cell_type": "code",
      "source": [
        "#adding new features\n",
        "df_final_train['preferential_attachment'] = df_final_train.apply(lambda row:preferential_attachment(row['source_node'],row['destination_node']),axis=1)\n",
        "df_final_test['preferential_attachment'] = df_final_test.apply(lambda row:preferential_attachment(row['source_node'],row['destination_node']),axis=1)\n",
        "\n",
        "    \n",
        "hdf = HDFStore('/content/drive/My Drive/Colab Notebooks/data_facebook/storage_sample_stage5.h5',mode='w')\n",
        "hdf.put('train_df',df_final_train, format='table', data_columns=True)\n",
        "hdf.put('test_df',df_final_test, format='table', data_columns=True)\n",
        "hdf.close()"
      ],
      "execution_count": 0,
      "outputs": []
    },
    {
      "metadata": {
        "id": "X4sxo4g5cJxR",
        "colab_type": "code",
        "outputId": "3c680c5b-674f-4cdb-9c95-4745b0605e8e",
        "colab": {
          "base_uri": "https://localhost:8080/",
          "height": 190
        }
      },
      "cell_type": "code",
      "source": [
        "df_final_train.head(2)"
      ],
      "execution_count": 0,
      "outputs": [
        {
          "output_type": "execute_result",
          "data": {
            "text/html": [
              "<div>\n",
              "<style scoped>\n",
              "    .dataframe tbody tr th:only-of-type {\n",
              "        vertical-align: middle;\n",
              "    }\n",
              "\n",
              "    .dataframe tbody tr th {\n",
              "        vertical-align: top;\n",
              "    }\n",
              "\n",
              "    .dataframe thead th {\n",
              "        text-align: right;\n",
              "    }\n",
              "</style>\n",
              "<table border=\"1\" class=\"dataframe\">\n",
              "  <thead>\n",
              "    <tr style=\"text-align: right;\">\n",
              "      <th></th>\n",
              "      <th>source_node</th>\n",
              "      <th>destination_node</th>\n",
              "      <th>indicator_link</th>\n",
              "      <th>jaccard_followers</th>\n",
              "      <th>jaccard_followees</th>\n",
              "      <th>cosine_followers</th>\n",
              "      <th>cosine_followees</th>\n",
              "      <th>num_followers_s</th>\n",
              "      <th>num_followees_s</th>\n",
              "      <th>num_followees_d</th>\n",
              "      <th>...</th>\n",
              "      <th>svd_v_s_4</th>\n",
              "      <th>svd_v_s_5</th>\n",
              "      <th>svd_v_s_6</th>\n",
              "      <th>svd_v_d_1</th>\n",
              "      <th>svd_v_d_2</th>\n",
              "      <th>svd_v_d_3</th>\n",
              "      <th>svd_v_d_4</th>\n",
              "      <th>svd_v_d_5</th>\n",
              "      <th>svd_v_d_6</th>\n",
              "      <th>preferential_attachment</th>\n",
              "    </tr>\n",
              "  </thead>\n",
              "  <tbody>\n",
              "    <tr>\n",
              "      <th>0</th>\n",
              "      <td>273084</td>\n",
              "      <td>1505602</td>\n",
              "      <td>1</td>\n",
              "      <td>0</td>\n",
              "      <td>0.000000</td>\n",
              "      <td>0.000000</td>\n",
              "      <td>0.000000</td>\n",
              "      <td>6</td>\n",
              "      <td>15</td>\n",
              "      <td>8</td>\n",
              "      <td>...</td>\n",
              "      <td>1.545075e-13</td>\n",
              "      <td>8.108434e-13</td>\n",
              "      <td>1.719702e-14</td>\n",
              "      <td>-1.355368e-12</td>\n",
              "      <td>4.675307e-13</td>\n",
              "      <td>1.128591e-06</td>\n",
              "      <td>6.616550e-14</td>\n",
              "      <td>9.771077e-13</td>\n",
              "      <td>4.159752e-14</td>\n",
              "      <td>10.954451</td>\n",
              "    </tr>\n",
              "    <tr>\n",
              "      <th>1</th>\n",
              "      <td>832016</td>\n",
              "      <td>1543415</td>\n",
              "      <td>1</td>\n",
              "      <td>0</td>\n",
              "      <td>0.187135</td>\n",
              "      <td>0.028382</td>\n",
              "      <td>0.343828</td>\n",
              "      <td>94</td>\n",
              "      <td>61</td>\n",
              "      <td>142</td>\n",
              "      <td>...</td>\n",
              "      <td>1.345726e-02</td>\n",
              "      <td>3.703479e-12</td>\n",
              "      <td>2.251737e-10</td>\n",
              "      <td>1.245101e-12</td>\n",
              "      <td>-1.636948e-10</td>\n",
              "      <td>-3.112650e-10</td>\n",
              "      <td>6.738902e-02</td>\n",
              "      <td>2.607801e-11</td>\n",
              "      <td>2.372904e-09</td>\n",
              "      <td>93.069866</td>\n",
              "    </tr>\n",
              "  </tbody>\n",
              "</table>\n",
              "<p>2 rows × 55 columns</p>\n",
              "</div>"
            ],
            "text/plain": [
              "   source_node  destination_node  indicator_link  jaccard_followers  \\\n",
              "0       273084           1505602               1                  0   \n",
              "1       832016           1543415               1                  0   \n",
              "\n",
              "   jaccard_followees  cosine_followers  cosine_followees  num_followers_s  \\\n",
              "0           0.000000          0.000000          0.000000                6   \n",
              "1           0.187135          0.028382          0.343828               94   \n",
              "\n",
              "   num_followees_s  num_followees_d           ...                svd_v_s_4  \\\n",
              "0               15                8           ...             1.545075e-13   \n",
              "1               61              142           ...             1.345726e-02   \n",
              "\n",
              "      svd_v_s_5     svd_v_s_6     svd_v_d_1     svd_v_d_2     svd_v_d_3  \\\n",
              "0  8.108434e-13  1.719702e-14 -1.355368e-12  4.675307e-13  1.128591e-06   \n",
              "1  3.703479e-12  2.251737e-10  1.245101e-12 -1.636948e-10 -3.112650e-10   \n",
              "\n",
              "      svd_v_d_4     svd_v_d_5     svd_v_d_6  preferential_attachment  \n",
              "0  6.616550e-14  9.771077e-13  4.159752e-14                10.954451  \n",
              "1  6.738902e-02  2.607801e-11  2.372904e-09                93.069866  \n",
              "\n",
              "[2 rows x 55 columns]"
            ]
          },
          "metadata": {
            "tags": []
          },
          "execution_count": 16
        }
      ]
    },
    {
      "metadata": {
        "id": "ZVGZZW_fTHE8",
        "colab_type": "text"
      },
      "cell_type": "markdown",
      "source": [
        "#### Adding SVD DOT features (source node * destination node)"
      ]
    },
    {
      "metadata": {
        "id": "ZO-_sr1LTTJb",
        "colab_type": "code",
        "colab": {}
      },
      "cell_type": "code",
      "source": [
        "#Appling SVD DOT in source and destination nodes\n",
        "                    \n",
        "df_final_train['svd_u_1_dot'] = df_final_train['svd_u_s_1']*(df_final_train['svd_u_d_1'])\n",
        "df_final_test['svd_u_1_dot'] = df_final_test['svd_u_s_1']*(df_final_test['svd_u_d_1'])\n",
        "df_final_train['svd_v_1_dot'] = df_final_train['svd_v_s_1']*(df_final_train['svd_v_d_1'])\n",
        "df_final_test['svd_v_1_dot'] = df_final_test['svd_v_s_1']*(df_final_test['svd_v_d_1'])\n",
        "\n",
        "df_final_train['svd_u_2_dot'] = df_final_train['svd_u_s_2']*(df_final_train['svd_u_d_2'])\n",
        "df_final_test['svd_u_2_dot'] = df_final_test['svd_u_s_2']*(df_final_test['svd_u_d_2'])\n",
        "df_final_train['svd_v_2_dot'] = df_final_train['svd_v_s_2']*(df_final_train['svd_v_d_2'])\n",
        "df_final_test['svd_v_2_dot'] = df_final_test['svd_v_s_2']*(df_final_test['svd_v_d_2'])\n",
        "\n",
        "df_final_train['svd_u_3_dot'] = df_final_train['svd_u_s_3']*(df_final_train['svd_u_d_3'])\n",
        "df_final_test['svd_u_3_dot'] = df_final_test['svd_u_s_3']*(df_final_test['svd_u_d_3'])\n",
        "df_final_train['svd_v_3_dot'] = df_final_train['svd_v_s_3']*(df_final_train['svd_v_d_3'])\n",
        "df_final_test['svd_v_3_dot'] = df_final_test['svd_v_s_3']*(df_final_test['svd_v_d_3'])\n",
        "                    \n",
        "df_final_train['svd_u_4_dot'] = df_final_train['svd_u_s_4']*(df_final_train['svd_u_d_4'])\n",
        "df_final_test['svd_u_4_dot'] = df_final_test['svd_u_s_4']*(df_final_test['svd_u_d_4'])\n",
        "df_final_train['svd_v_4_dot'] = df_final_train['svd_v_s_4']*(df_final_train['svd_v_d_5'])\n",
        "df_final_test['svd_v_4_dot'] = df_final_test['svd_v_s_4']*(df_final_test['svd_v_d_5'])\n",
        "\n",
        "df_final_train['svd_u_5_dot'] = df_final_train['svd_u_s_5']*(df_final_train['svd_u_d_5'])\n",
        "df_final_test['svd_u_5_dot'] = df_final_test['svd_u_s_5']*(df_final_test['svd_u_d_5'])\n",
        "df_final_train['svd_v_5_dot'] = df_final_train['svd_v_s_5']*(df_final_train['svd_v_d_5'])\n",
        "df_final_test['svd_v_5_dot'] = df_final_test['svd_v_s_5']*(df_final_test['svd_v_d_5'])\n",
        "                    \n",
        "df_final_train['svd_u_6_dot'] = df_final_train['svd_u_s_6']*(df_final_train['svd_u_d_6'])\n",
        "df_final_test['svd_u_6_dot'] = df_final_test['svd_u_s_6']*(df_final_test['svd_u_d_6'])\n",
        "df_final_train['svd_v_6_dot'] = df_final_train['svd_v_s_6']*(df_final_train['svd_v_d_6'])\n",
        "df_final_test['svd_v_6_dot'] = df_final_test['svd_v_s_6']*(df_final_test['svd_v_d_6'])\n",
        "                    \n",
        "\n",
        "#creating new file \n",
        "hdf = HDFStore('/content/drive/My Drive/Colab Notebooks/data_facebook/storage_sample_stage6.h5',mode='w')\n",
        "hdf.put('train_df',df_final_train, format='table', data_columns=True)\n",
        "hdf.put('test_df',df_final_test, format='table', data_columns=True)\n",
        "hdf.close()\n"
      ],
      "execution_count": 0,
      "outputs": []
    },
    {
      "metadata": {
        "id": "VSG1NKRTTT3I",
        "colab_type": "code",
        "outputId": "57cf3b95-e92c-4cbe-864c-7ccd50b43123",
        "colab": {
          "base_uri": "https://localhost:8080/",
          "height": 330
        }
      },
      "cell_type": "code",
      "source": [
        "df_final_train.head()"
      ],
      "execution_count": 0,
      "outputs": [
        {
          "output_type": "execute_result",
          "data": {
            "text/html": [
              "<div>\n",
              "<style scoped>\n",
              "    .dataframe tbody tr th:only-of-type {\n",
              "        vertical-align: middle;\n",
              "    }\n",
              "\n",
              "    .dataframe tbody tr th {\n",
              "        vertical-align: top;\n",
              "    }\n",
              "\n",
              "    .dataframe thead th {\n",
              "        text-align: right;\n",
              "    }\n",
              "</style>\n",
              "<table border=\"1\" class=\"dataframe\">\n",
              "  <thead>\n",
              "    <tr style=\"text-align: right;\">\n",
              "      <th></th>\n",
              "      <th>source_node</th>\n",
              "      <th>destination_node</th>\n",
              "      <th>indicator_link</th>\n",
              "      <th>jaccard_followers</th>\n",
              "      <th>jaccard_followees</th>\n",
              "      <th>cosine_followers</th>\n",
              "      <th>cosine_followees</th>\n",
              "      <th>num_followers_s</th>\n",
              "      <th>num_followees_s</th>\n",
              "      <th>num_followees_d</th>\n",
              "      <th>...</th>\n",
              "      <th>svd_u_2_dot</th>\n",
              "      <th>svd_v_2_dot</th>\n",
              "      <th>svd_u_3_dot</th>\n",
              "      <th>svd_v_3_dot</th>\n",
              "      <th>svd_u_4_dot</th>\n",
              "      <th>svd_v_4_dot</th>\n",
              "      <th>svd_u_5_dot</th>\n",
              "      <th>svd_v_5_dot</th>\n",
              "      <th>svd_u_6_dot</th>\n",
              "      <th>svd_v_6_dot</th>\n",
              "    </tr>\n",
              "  </thead>\n",
              "  <tbody>\n",
              "    <tr>\n",
              "      <th>0</th>\n",
              "      <td>273084</td>\n",
              "      <td>1505602</td>\n",
              "      <td>1</td>\n",
              "      <td>0</td>\n",
              "      <td>0.000000</td>\n",
              "      <td>0.000000</td>\n",
              "      <td>0.000000</td>\n",
              "      <td>6</td>\n",
              "      <td>15</td>\n",
              "      <td>8</td>\n",
              "      <td>...</td>\n",
              "      <td>2.490079e-25</td>\n",
              "      <td>1.835514e-25</td>\n",
              "      <td>1.114958e-11</td>\n",
              "      <td>2.238775e-12</td>\n",
              "      <td>7.961319e-25</td>\n",
              "      <td>1.509705e-25</td>\n",
              "      <td>5.587203e-25</td>\n",
              "      <td>7.922813e-25</td>\n",
              "      <td>1.283580e-23</td>\n",
              "      <td>7.153535e-28</td>\n",
              "    </tr>\n",
              "    <tr>\n",
              "      <th>1</th>\n",
              "      <td>832016</td>\n",
              "      <td>1543415</td>\n",
              "      <td>1</td>\n",
              "      <td>0</td>\n",
              "      <td>0.187135</td>\n",
              "      <td>0.028382</td>\n",
              "      <td>0.343828</td>\n",
              "      <td>94</td>\n",
              "      <td>61</td>\n",
              "      <td>142</td>\n",
              "      <td>...</td>\n",
              "      <td>1.689511e-20</td>\n",
              "      <td>5.429509e-21</td>\n",
              "      <td>6.774508e-20</td>\n",
              "      <td>1.941063e-20</td>\n",
              "      <td>3.192812e-03</td>\n",
              "      <td>3.509386e-13</td>\n",
              "      <td>2.477266e-22</td>\n",
              "      <td>9.657935e-23</td>\n",
              "      <td>1.253154e-18</td>\n",
              "      <td>5.343156e-19</td>\n",
              "    </tr>\n",
              "    <tr>\n",
              "      <th>2</th>\n",
              "      <td>1325247</td>\n",
              "      <td>760242</td>\n",
              "      <td>1</td>\n",
              "      <td>0</td>\n",
              "      <td>0.369565</td>\n",
              "      <td>0.156957</td>\n",
              "      <td>0.566038</td>\n",
              "      <td>28</td>\n",
              "      <td>41</td>\n",
              "      <td>22</td>\n",
              "      <td>...</td>\n",
              "      <td>7.011467e-37</td>\n",
              "      <td>2.092514e-38</td>\n",
              "      <td>2.894193e-37</td>\n",
              "      <td>4.410859e-38</td>\n",
              "      <td>2.929450e-36</td>\n",
              "      <td>-1.143997e-37</td>\n",
              "      <td>2.583314e-37</td>\n",
              "      <td>3.161578e-38</td>\n",
              "      <td>9.238392e-37</td>\n",
              "      <td>8.657303e-38</td>\n",
              "    </tr>\n",
              "    <tr>\n",
              "      <th>3</th>\n",
              "      <td>1368400</td>\n",
              "      <td>1006992</td>\n",
              "      <td>1</td>\n",
              "      <td>0</td>\n",
              "      <td>0.000000</td>\n",
              "      <td>0.000000</td>\n",
              "      <td>0.000000</td>\n",
              "      <td>11</td>\n",
              "      <td>5</td>\n",
              "      <td>7</td>\n",
              "      <td>...</td>\n",
              "      <td>5.825985e-24</td>\n",
              "      <td>1.798554e-23</td>\n",
              "      <td>4.650022e-20</td>\n",
              "      <td>3.158679e-18</td>\n",
              "      <td>1.705371e-25</td>\n",
              "      <td>4.615098e-21</td>\n",
              "      <td>5.949183e-22</td>\n",
              "      <td>4.611652e-22</td>\n",
              "      <td>7.671366e-30</td>\n",
              "      <td>5.607249e-26</td>\n",
              "    </tr>\n",
              "    <tr>\n",
              "      <th>4</th>\n",
              "      <td>140165</td>\n",
              "      <td>1708748</td>\n",
              "      <td>1</td>\n",
              "      <td>0</td>\n",
              "      <td>0.000000</td>\n",
              "      <td>0.000000</td>\n",
              "      <td>0.000000</td>\n",
              "      <td>1</td>\n",
              "      <td>11</td>\n",
              "      <td>3</td>\n",
              "      <td>...</td>\n",
              "      <td>2.728218e-26</td>\n",
              "      <td>0.000000e+00</td>\n",
              "      <td>7.773952e-14</td>\n",
              "      <td>0.000000e+00</td>\n",
              "      <td>3.146677e-27</td>\n",
              "      <td>0.000000e+00</td>\n",
              "      <td>1.895144e-26</td>\n",
              "      <td>0.000000e+00</td>\n",
              "      <td>6.247367e-29</td>\n",
              "      <td>0.000000e+00</td>\n",
              "    </tr>\n",
              "  </tbody>\n",
              "</table>\n",
              "<p>5 rows × 67 columns</p>\n",
              "</div>"
            ],
            "text/plain": [
              "   source_node  destination_node  indicator_link  jaccard_followers  \\\n",
              "0       273084           1505602               1                  0   \n",
              "1       832016           1543415               1                  0   \n",
              "2      1325247            760242               1                  0   \n",
              "3      1368400           1006992               1                  0   \n",
              "4       140165           1708748               1                  0   \n",
              "\n",
              "   jaccard_followees  cosine_followers  cosine_followees  num_followers_s  \\\n",
              "0           0.000000          0.000000          0.000000                6   \n",
              "1           0.187135          0.028382          0.343828               94   \n",
              "2           0.369565          0.156957          0.566038               28   \n",
              "3           0.000000          0.000000          0.000000               11   \n",
              "4           0.000000          0.000000          0.000000                1   \n",
              "\n",
              "   num_followees_s  num_followees_d      ...        svd_u_2_dot   svd_v_2_dot  \\\n",
              "0               15                8      ...       2.490079e-25  1.835514e-25   \n",
              "1               61              142      ...       1.689511e-20  5.429509e-21   \n",
              "2               41               22      ...       7.011467e-37  2.092514e-38   \n",
              "3                5                7      ...       5.825985e-24  1.798554e-23   \n",
              "4               11                3      ...       2.728218e-26  0.000000e+00   \n",
              "\n",
              "    svd_u_3_dot   svd_v_3_dot   svd_u_4_dot   svd_v_4_dot   svd_u_5_dot  \\\n",
              "0  1.114958e-11  2.238775e-12  7.961319e-25  1.509705e-25  5.587203e-25   \n",
              "1  6.774508e-20  1.941063e-20  3.192812e-03  3.509386e-13  2.477266e-22   \n",
              "2  2.894193e-37  4.410859e-38  2.929450e-36 -1.143997e-37  2.583314e-37   \n",
              "3  4.650022e-20  3.158679e-18  1.705371e-25  4.615098e-21  5.949183e-22   \n",
              "4  7.773952e-14  0.000000e+00  3.146677e-27  0.000000e+00  1.895144e-26   \n",
              "\n",
              "    svd_v_5_dot   svd_u_6_dot   svd_v_6_dot  \n",
              "0  7.922813e-25  1.283580e-23  7.153535e-28  \n",
              "1  9.657935e-23  1.253154e-18  5.343156e-19  \n",
              "2  3.161578e-38  9.238392e-37  8.657303e-38  \n",
              "3  4.611652e-22  7.671366e-30  5.607249e-26  \n",
              "4  0.000000e+00  6.247367e-29  0.000000e+00  \n",
              "\n",
              "[5 rows x 67 columns]"
            ]
          },
          "metadata": {
            "tags": []
          },
          "execution_count": 58
        }
      ]
    },
    {
      "metadata": {
        "id": "xG8vaUn-JCQI",
        "colab_type": "text"
      },
      "cell_type": "markdown",
      "source": [
        "## Implementing Models"
      ]
    },
    {
      "metadata": {
        "id": "VY3vYKgVPGT2",
        "colab_type": "text"
      },
      "cell_type": "markdown",
      "source": [
        "### RandomForestClassifier"
      ]
    },
    {
      "metadata": {
        "id": "-j4nS0OebbOz",
        "colab_type": "code",
        "colab": {}
      },
      "cell_type": "code",
      "source": [
        "#reading\n",
        "from pandas import read_hdf\n",
        "df_final_train = read_hdf('/content/drive/My Drive/Colab Notebooks/data_facebook/storage_sample_stage6.h5', 'train_df',mode='r')\n",
        "df_final_test = read_hdf('/content/drive/My Drive/Colab Notebooks/data_facebook/storage_sample_stage6.h5', 'test_df',mode='r')"
      ],
      "execution_count": 0,
      "outputs": []
    },
    {
      "metadata": {
        "id": "j3Yz1onNbQ0T",
        "colab_type": "code",
        "outputId": "24bf2db6-c591-42e0-a316-3a3202bfab0d",
        "colab": {
          "base_uri": "https://localhost:8080/",
          "height": 318
        }
      },
      "cell_type": "code",
      "source": [
        "df_final_train.columns"
      ],
      "execution_count": 0,
      "outputs": [
        {
          "output_type": "execute_result",
          "data": {
            "text/plain": [
              "Index(['source_node', 'destination_node', 'indicator_link',\n",
              "       'jaccard_followers', 'jaccard_followees', 'cosine_followers',\n",
              "       'cosine_followees', 'num_followers_s', 'num_followees_s',\n",
              "       'num_followees_d', 'inter_followers', 'inter_followees', 'adar_index',\n",
              "       'follows_back', 'same_comp', 'shortest_path', 'weight_in', 'weight_out',\n",
              "       'weight_f1', 'weight_f2', 'weight_f3', 'weight_f4', 'page_rank_s',\n",
              "       'page_rank_d', 'katz_s', 'katz_d', 'hubs_s', 'hubs_d', 'authorities_s',\n",
              "       'authorities_d', 'svd_u_s_1', 'svd_u_s_2', 'svd_u_s_3', 'svd_u_s_4',\n",
              "       'svd_u_s_5', 'svd_u_s_6', 'svd_u_d_1', 'svd_u_d_2', 'svd_u_d_3',\n",
              "       'svd_u_d_4', 'svd_u_d_5', 'svd_u_d_6', 'svd_v_s_1', 'svd_v_s_2',\n",
              "       'svd_v_s_3', 'svd_v_s_4', 'svd_v_s_5', 'svd_v_s_6', 'svd_v_d_1',\n",
              "       'svd_v_d_2', 'svd_v_d_3', 'svd_v_d_4', 'svd_v_d_5', 'svd_v_d_6',\n",
              "       'preferential_attachment', 'svd_u_1_dot', 'svd_v_1_dot', 'svd_u_2_dot',\n",
              "       'svd_v_2_dot', 'svd_u_3_dot', 'svd_v_3_dot', 'svd_u_4_dot',\n",
              "       'svd_v_4_dot', 'svd_u_5_dot', 'svd_v_5_dot', 'svd_u_6_dot',\n",
              "       'svd_v_6_dot'],\n",
              "      dtype='object')"
            ]
          },
          "metadata": {
            "tags": []
          },
          "execution_count": 31
        }
      ]
    },
    {
      "metadata": {
        "id": "Ju08yElOJj0_",
        "colab_type": "code",
        "colab": {}
      },
      "cell_type": "code",
      "source": [
        "y_train = df_final_train.indicator_link\n",
        "y_test = df_final_test.indicator_link"
      ],
      "execution_count": 0,
      "outputs": []
    },
    {
      "metadata": {
        "id": "TPCWozR-Jj_w",
        "colab_type": "code",
        "colab": {}
      },
      "cell_type": "code",
      "source": [
        "#droping source code, destination code and indicator link\n",
        "\n",
        "df_final_train.drop(['source_node', 'destination_node','indicator_link'],axis=1,inplace=True)\n",
        "df_final_test.drop(['source_node', 'destination_node','indicator_link'],axis=1,inplace=True)"
      ],
      "execution_count": 0,
      "outputs": []
    },
    {
      "metadata": {
        "id": "0f7L5A0We88D",
        "colab_type": "code",
        "outputId": "0f33cc7d-1973-4308-df34-118514aa6490",
        "colab": {
          "base_uri": "https://localhost:8080/",
          "height": 301
        }
      },
      "cell_type": "code",
      "source": [
        "df_final_train.columns"
      ],
      "execution_count": 0,
      "outputs": [
        {
          "output_type": "execute_result",
          "data": {
            "text/plain": [
              "Index(['jaccard_followers', 'jaccard_followees', 'cosine_followers',\n",
              "       'cosine_followees', 'num_followers_s', 'num_followees_s',\n",
              "       'num_followees_d', 'inter_followers', 'inter_followees', 'adar_index',\n",
              "       'follows_back', 'same_comp', 'shortest_path', 'weight_in', 'weight_out',\n",
              "       'weight_f1', 'weight_f2', 'weight_f3', 'weight_f4', 'page_rank_s',\n",
              "       'page_rank_d', 'katz_s', 'katz_d', 'hubs_s', 'hubs_d', 'authorities_s',\n",
              "       'authorities_d', 'svd_u_s_1', 'svd_u_s_2', 'svd_u_s_3', 'svd_u_s_4',\n",
              "       'svd_u_s_5', 'svd_u_s_6', 'svd_u_d_1', 'svd_u_d_2', 'svd_u_d_3',\n",
              "       'svd_u_d_4', 'svd_u_d_5', 'svd_u_d_6', 'svd_v_s_1', 'svd_v_s_2',\n",
              "       'svd_v_s_3', 'svd_v_s_4', 'svd_v_s_5', 'svd_v_s_6', 'svd_v_d_1',\n",
              "       'svd_v_d_2', 'svd_v_d_3', 'svd_v_d_4', 'svd_v_d_5', 'svd_v_d_6',\n",
              "       'preferential_attachment', 'svd_u_1_dot', 'svd_v_1_dot', 'svd_u_2_dot',\n",
              "       'svd_v_2_dot', 'svd_u_3_dot', 'svd_v_3_dot', 'svd_u_4_dot',\n",
              "       'svd_v_4_dot', 'svd_u_5_dot', 'svd_v_5_dot', 'svd_u_6_dot',\n",
              "       'svd_v_6_dot'],\n",
              "      dtype='object')"
            ]
          },
          "metadata": {
            "tags": []
          },
          "execution_count": 8
        }
      ]
    },
    {
      "metadata": {
        "id": "z6WQKsm9Jj5Y",
        "colab_type": "code",
        "outputId": "042e4601-fe34-4e94-b744-9b5e042cf87e",
        "colab": {
          "base_uri": "https://localhost:8080/",
          "height": 500
        }
      },
      "cell_type": "code",
      "source": [
        "%%time\n",
        "#estimator wise\n",
        "\n",
        "estimators = [10,50,100,250,450]\n",
        "train_scores = []\n",
        "test_scores = []\n",
        "\n",
        "for i in estimators:\n",
        "  \n",
        "    clf = RandomForestClassifier(bootstrap=True, class_weight=None, criterion='gini',max_depth=5, max_features='auto', max_leaf_nodes=None,min_impurity_decrease=0.0, min_impurity_split=None,\n",
        "                                 min_samples_leaf=52, min_samples_split=120,min_weight_fraction_leaf=0.0, n_estimators=i, n_jobs=-1,random_state=25,verbose=0,warm_start=False)\n",
        "    \n",
        "    clf.fit(df_final_train,y_train)\n",
        "    \n",
        "    train_sc = f1_score(y_train,clf.predict(df_final_train))\n",
        "    test_sc = f1_score(y_test,clf.predict(df_final_test))\n",
        "    test_scores.append(test_sc)\n",
        "    train_scores.append(train_sc)\n",
        "    print('Estimators = ',i,'Train Score',train_sc,'test Score',test_sc)\n",
        "    \n",
        "    \n",
        "#ploting graph    \n",
        "plt.plot(estimators,train_scores,label='Train Score')\n",
        "plt.plot(estimators,test_scores,label='Test Score')\n",
        "plt.xlabel('Estimators')\n",
        "plt.ylabel('Score')\n",
        "plt.title('Estimators vs score at depth of 5')"
      ],
      "execution_count": 0,
      "outputs": [
        {
          "output_type": "stream",
          "text": [
            "Estimators =  10 Train Score 0.9099031396125584 test Score 0.8959235857230405\n",
            "Estimators =  50 Train Score 0.9234163581989668 test Score 0.9190653146060338\n",
            "Estimators =  100 Train Score 0.9233729295633262 test Score 0.9188439889103587\n",
            "Estimators =  250 Train Score 0.9224650422841834 test Score 0.917535305985205\n",
            "Estimators =  450 Train Score 0.9231348198325336 test Score 0.918167695343662\n",
            "CPU times: user 4min 11s, sys: 859 ms, total: 4min 12s\n",
            "Wall time: 2min 8s\n"
          ],
          "name": "stdout"
        },
        {
          "output_type": "display_data",
          "data": {
            "image/png": "[encoded data removed]",
            "text/plain": [
              "<Figure size 576x396 with 1 Axes>"
            ]
          },
          "metadata": {
            "tags": []
          }
        }
      ]
    },
    {
      "metadata": {
        "id": "Ldzdu0EiND0R",
        "colab_type": "code",
        "outputId": "33361932-93a9-487a-8e4f-01b798dfdfef",
        "colab": {
          "base_uri": "https://localhost:8080/",
          "height": 87
        }
      },
      "cell_type": "code",
      "source": [
        "%%time\n",
        "from sklearn.metrics import f1_score\n",
        "from sklearn.ensemble import RandomForestClassifier\n",
        "from sklearn.metrics import f1_score\n",
        "from sklearn.model_selection import RandomizedSearchCV\n",
        "from scipy.stats import randint as sp_randint\n",
        "from scipy.stats import uniform\n",
        "\n",
        "param_dist = {\"n_estimators\":sp_randint(105,125),\n",
        "              \"max_depth\": sp_randint(10,15),\n",
        "              \"min_samples_split\": sp_randint(110,190),\n",
        "              \"min_samples_leaf\": sp_randint(25,65)}\n",
        "\n",
        "clf = RandomForestClassifier(random_state=25,n_jobs=-1)\n",
        "\n",
        "rf_random = RandomizedSearchCV(clf, param_distributions=param_dist,n_iter=5,cv=10,scoring='f1',random_state=25)\n",
        "\n",
        "rf_random.fit(df_final_train,y_train)\n",
        "\n",
        "print('mean test scores',rf_random.cv_results_['mean_test_score'])\n",
        "print('mean train scores',rf_random.cv_results_['mean_train_score'])"
      ],
      "execution_count": 0,
      "outputs": [
        {
          "output_type": "stream",
          "text": [
            "mean test scores [0.96141322 0.96087341 0.9596804  0.960717   0.96220727]\n",
            "mean train scores [0.96214874 0.96141099 0.95976391 0.96118062 0.96303008]\n",
            "CPU times: user 2min 45s, sys: 5.78 s, total: 2min 51s\n",
            "Wall time: 20min 12s\n"
          ],
          "name": "stdout"
        }
      ]
    },
    {
      "metadata": {
        "id": "55ckWEbDNsDO",
        "colab_type": "code",
        "outputId": "6ae75e85-0cbb-495f-e0de-0ec14bf6369e",
        "colab": {
          "base_uri": "https://localhost:8080/",
          "height": 123
        }
      },
      "cell_type": "code",
      "source": [
        "print(rf_random.best_estimator_)"
      ],
      "execution_count": 0,
      "outputs": [
        {
          "output_type": "stream",
          "text": [
            "RandomForestClassifier(bootstrap=True, class_weight=None, criterion='gini',\n",
            "            max_depth=14, max_features='auto', max_leaf_nodes=None,\n",
            "            min_impurity_decrease=0.0, min_impurity_split=None,\n",
            "            min_samples_leaf=28, min_samples_split=111,\n",
            "            min_weight_fraction_leaf=0.0, n_estimators=121, n_jobs=-1,\n",
            "            oob_score=False, random_state=25, verbose=0, warm_start=False)\n"
          ],
          "name": "stdout"
        }
      ]
    },
    {
      "metadata": {
        "id": "xcEpRwTmL9xR",
        "colab_type": "code",
        "outputId": "a0f3bd4b-dfb2-4714-d84c-bd86e6fca549",
        "colab": {
          "base_uri": "https://localhost:8080/",
          "height": 52
        }
      },
      "cell_type": "code",
      "source": [
        "%%time\n",
        "#fitting and predicting through model\n",
        "\n",
        "clf = RandomForestClassifier(bootstrap=True, class_weight=None, criterion='gini',\n",
        "            max_depth=14, max_features='auto', max_leaf_nodes=None,\n",
        "            min_impurity_decrease=0.0, min_impurity_split=None,\n",
        "            min_samples_leaf=28, min_samples_split=111,\n",
        "            min_weight_fraction_leaf=0.0, n_estimators=121, n_jobs=-1,\n",
        "            oob_score=False, random_state=25, verbose=0, warm_start=False)\n",
        "\n",
        "\n",
        "clf.fit(df_final_train,y_train)\n",
        "y_train_pred = clf.predict(df_final_train)\n",
        "y_test_pred = clf.predict(df_final_test)\n"
      ],
      "execution_count": 0,
      "outputs": [
        {
          "output_type": "stream",
          "text": [
            "CPU times: user 54.8 s, sys: 193 ms, total: 55 s\n",
            "Wall time: 28 s\n"
          ],
          "name": "stdout"
        }
      ]
    },
    {
      "metadata": {
        "id": "caxFHH7OKGTG",
        "colab_type": "code",
        "colab": {}
      },
      "cell_type": "code",
      "source": [
        "from sklearn.metrics import confusion_matrix\n",
        "def plot_confusion_matrix(test_y, predict_y):\n",
        "    C = confusion_matrix(test_y, predict_y)\n",
        "    \n",
        "    A =(((C.T)/(C.sum(axis=1))).T)\n",
        "    \n",
        "    B =(C/C.sum(axis=0))\n",
        "    plt.figure(figsize=(20,4))\n",
        "    \n",
        "    labels = [0,1]\n",
        "    # representing A in heatmap format\n",
        "   \n",
        "    plt.subplot(1, 3, 1)\n",
        "    sns.heatmap(C, annot=True,  fmt=\".3f\", xticklabels=labels, yticklabels=labels)\n",
        "    plt.xlabel('Predicted Class')\n",
        "    plt.ylabel('Original Class')\n",
        "    plt.title(\"Confusion matrix\")\n",
        "    \n",
        "    plt.subplot(1, 3, 2)\n",
        "    sns.heatmap(B, annot=True,  fmt=\".3f\", xticklabels=labels, yticklabels=labels)\n",
        "    plt.xlabel('Predicted Class')\n",
        "    plt.ylabel('Original Class')\n",
        "    plt.title(\"Precision matrix\")\n",
        "    \n",
        "    plt.subplot(1, 3, 3)\n",
        "    # representing B in heatmap format\n",
        "    sns.heatmap(A, annot=True,  fmt=\".3f\", xticklabels=labels, yticklabels=labels)\n",
        "    plt.xlabel('Predicted Class')\n",
        "    plt.ylabel('Original Class')\n",
        "    plt.title(\"Recall matrix\")\n",
        "    \n",
        "    plt.show()"
      ],
      "execution_count": 0,
      "outputs": []
    },
    {
      "metadata": {
        "id": "UmNWJRveKGXh",
        "colab_type": "code",
        "outputId": "8a8bf659-4f94-49ac-c30b-a7fec63cbdd4",
        "colab": {
          "base_uri": "https://localhost:8080/",
          "height": 605
        }
      },
      "cell_type": "code",
      "source": [
        "print('Train confusion_matrix')\n",
        "plot_confusion_matrix(y_train,y_train_pred)\n",
        "print('Test confusion_matrix')\n",
        "plot_confusion_matrix(y_test,y_test_pred)"
      ],
      "execution_count": 0,
      "outputs": [
        {
          "output_type": "stream",
          "text": [
            "Train confusion_matrix\n"
          ],
          "name": "stdout"
        },
        {
          "output_type": "display_data",
          "data": {
            "image/png": "[encoded data removed]",
            "text/plain": [
              "<Figure size 1440x288 with 6 Axes>"
            ]
          },
          "metadata": {
            "tags": []
          }
        },
        {
          "output_type": "stream",
          "text": [
            "Test confusion_matrix\n"
          ],
          "name": "stdout"
        },
        {
          "output_type": "display_data",
          "data": {
            "image/png": "[encoded data removed]",
            "text/plain": [
              "<Figure size 1440x288 with 6 Axes>"
            ]
          },
          "metadata": {
            "tags": []
          }
        }
      ]
    },
    {
      "metadata": {
        "id": "0Avce2diOHLj",
        "colab_type": "code",
        "outputId": "3905ebbc-6231-4498-fb7a-72dde6356b7b",
        "colab": {
          "base_uri": "https://localhost:8080/",
          "height": 375
        }
      },
      "cell_type": "code",
      "source": [
        "from sklearn.metrics import roc_curve, auc\n",
        "fpr,tpr,ths = roc_curve(y_test,y_test_pred)\n",
        "auc_sc = auc(fpr, tpr)\n",
        "plt.plot(fpr, tpr, color='navy',label='ROC curve (area = %0.2f)' % auc_sc)\n",
        "plt.xlabel('False Positive Rate')\n",
        "plt.ylabel('True Positive Rate')\n",
        "plt.title('Receiver operating characteristic with test data')\n",
        "plt.legend()\n",
        "plt.show()"
      ],
      "execution_count": 0,
      "outputs": [
        {
          "output_type": "display_data",
          "data": {
            "image/png": "[encoded data removed]",
            "text/plain": [
              "<Figure size 576x396 with 1 Axes>"
            ]
          },
          "metadata": {
            "tags": []
          }
        }
      ]
    },
    {
      "metadata": {
        "id": "aIiyFpytKGeS",
        "colab_type": "code",
        "outputId": "d7ba1ba0-dc10-487a-803c-e6d653811d87",
        "colab": {
          "base_uri": "https://localhost:8080/",
          "height": 728
        }
      },
      "cell_type": "code",
      "source": [
        "features = df_final_train.columns\n",
        "importances = clf.feature_importances_\n",
        "indices = (np.argsort(importances))[-40:]\n",
        "plt.figure(figsize=(10,12))\n",
        "plt.title('Feature Importances')\n",
        "plt.barh(range(len(indices)), importances[indices], color='g', align='center')\n",
        "plt.yticks(range(len(indices)), [features[i] for i in indices])\n",
        "plt.xlabel('Relative Importance')\n",
        "plt.show()"
      ],
      "execution_count": 0,
      "outputs": [
        {
          "output_type": "display_data",
          "data": {
            "image/png": "[encoded data removed]",
            "text/plain": [
              "<Figure size 720x864 with 1 Axes>"
            ]
          },
          "metadata": {
            "tags": []
          }
        }
      ]
    },
    {
      "metadata": {
        "id": "ylVD-59mPTps",
        "colab_type": "text"
      },
      "cell_type": "markdown",
      "source": [
        "### XG boost"
      ]
    },
    {
      "metadata": {
        "id": "mXBinbCnKGh-",
        "colab_type": "code",
        "colab": {}
      },
      "cell_type": "code",
      "source": [
        "#reading\n",
        "from pandas import read_hdf\n",
        "df_final_train = read_hdf('/content/drive/My Drive/Colab Notebooks/data_facebook/storage_sample_stage6.h5', 'train_df',mode='r')\n",
        "df_final_test = read_hdf('/content/drive/My Drive/Colab Notebooks/data_facebook/storage_sample_stage6.h5', 'test_df',mode='r')"
      ],
      "execution_count": 0,
      "outputs": []
    },
    {
      "metadata": {
        "id": "Y4OibAiCctLF",
        "colab_type": "code",
        "outputId": "282965ec-006b-4b0d-96ed-49193cbe6ac8",
        "colab": {
          "base_uri": "https://localhost:8080/",
          "height": 318
        }
      },
      "cell_type": "code",
      "source": [
        "df_final_train.columns"
      ],
      "execution_count": 0,
      "outputs": [
        {
          "output_type": "execute_result",
          "data": {
            "text/plain": [
              "Index(['source_node', 'destination_node', 'indicator_link',\n",
              "       'jaccard_followers', 'jaccard_followees', 'cosine_followers',\n",
              "       'cosine_followees', 'num_followers_s', 'num_followees_s',\n",
              "       'num_followees_d', 'inter_followers', 'inter_followees', 'adar_index',\n",
              "       'follows_back', 'same_comp', 'shortest_path', 'weight_in', 'weight_out',\n",
              "       'weight_f1', 'weight_f2', 'weight_f3', 'weight_f4', 'page_rank_s',\n",
              "       'page_rank_d', 'katz_s', 'katz_d', 'hubs_s', 'hubs_d', 'authorities_s',\n",
              "       'authorities_d', 'svd_u_s_1', 'svd_u_s_2', 'svd_u_s_3', 'svd_u_s_4',\n",
              "       'svd_u_s_5', 'svd_u_s_6', 'svd_u_d_1', 'svd_u_d_2', 'svd_u_d_3',\n",
              "       'svd_u_d_4', 'svd_u_d_5', 'svd_u_d_6', 'svd_v_s_1', 'svd_v_s_2',\n",
              "       'svd_v_s_3', 'svd_v_s_4', 'svd_v_s_5', 'svd_v_s_6', 'svd_v_d_1',\n",
              "       'svd_v_d_2', 'svd_v_d_3', 'svd_v_d_4', 'svd_v_d_5', 'svd_v_d_6',\n",
              "       'preferential_attachment', 'svd_u_1_dot', 'svd_v_1_dot', 'svd_u_2_dot',\n",
              "       'svd_v_2_dot', 'svd_u_3_dot', 'svd_v_3_dot', 'svd_u_4_dot',\n",
              "       'svd_v_4_dot', 'svd_u_5_dot', 'svd_v_5_dot', 'svd_u_6_dot',\n",
              "       'svd_v_6_dot'],\n",
              "      dtype='object')"
            ]
          },
          "metadata": {
            "tags": []
          },
          "execution_count": 12
        }
      ]
    },
    {
      "metadata": {
        "id": "owei5cP_ctPD",
        "colab_type": "code",
        "colab": {}
      },
      "cell_type": "code",
      "source": [
        "y_train = df_final_train.indicator_link\n",
        "y_test = df_final_test.indicator_link"
      ],
      "execution_count": 0,
      "outputs": []
    },
    {
      "metadata": {
        "id": "2n57m9VRdAGz",
        "colab_type": "code",
        "colab": {}
      },
      "cell_type": "code",
      "source": [
        "#droping source code, destination code and indicator link\n",
        "\n",
        "df_final_train.drop(['source_node', 'destination_node','indicator_link'],axis=1,inplace=True)\n",
        "df_final_test.drop(['source_node', 'destination_node','indicator_link'],axis=1,inplace=True)"
      ],
      "execution_count": 0,
      "outputs": []
    },
    {
      "metadata": {
        "id": "qsHKZev_dAKL",
        "colab_type": "code",
        "outputId": "a6c86177-b544-47ea-d891-dd2b2151a9b4",
        "colab": {
          "base_uri": "https://localhost:8080/",
          "height": 87
        }
      },
      "cell_type": "code",
      "source": [
        "%%time\n",
        "from sklearn.metrics import f1_score\n",
        "\n",
        "from sklearn.metrics import f1_score\n",
        "from sklearn.model_selection import RandomizedSearchCV\n",
        "from scipy.stats import randint as sp_randint\n",
        "from scipy.stats import uniform\n",
        "\n",
        "param_dist = {\"n_estimators\":sp_randint(105,125),\n",
        "              \"max_depth\": sp_randint(10,15)}\n",
        "\n",
        "xgb_clf= xgb.XGBClassifier(random_state=25,n_jobs=-1)\n",
        "\n",
        "rf_random = RandomizedSearchCV(xgb_clf, param_distributions=param_dist,n_iter=5,cv=10,scoring='f1',random_state=25)\n",
        "\n",
        "rf_random.fit(df_final_train,y_train)\n",
        "\n",
        "print('mean test scores',rf_random.cv_results_['mean_test_score'])\n",
        "print('mean train scores',rf_random.cv_results_['mean_train_score'])"
      ],
      "execution_count": 0,
      "outputs": [
        {
          "output_type": "stream",
          "text": [
            "mean test scores [0.98029406 0.98025694 0.97989429 0.98006164 0.98012339]\n",
            "mean train scores [0.99994339 0.99997558 0.99286112 0.99557341 0.99591635]\n",
            "CPU times: user 1h 40min 48s, sys: 2.86 s, total: 1h 40min 51s\n",
            "Wall time: 1h 40min 52s\n"
          ],
          "name": "stdout"
        }
      ]
    },
    {
      "metadata": {
        "id": "phRS6MPsdASa",
        "colab_type": "code",
        "outputId": "b7b2b133-3472-4284-ca3d-5fce33636d86",
        "colab": {
          "base_uri": "https://localhost:8080/",
          "height": 123
        }
      },
      "cell_type": "code",
      "source": [
        "print(rf_random.best_estimator_)"
      ],
      "execution_count": 0,
      "outputs": [
        {
          "output_type": "stream",
          "text": [
            "XGBClassifier(base_score=0.5, booster='gbtree', colsample_bylevel=1,\n",
            "       colsample_bytree=1, gamma=0, learning_rate=0.1, max_delta_step=0,\n",
            "       max_depth=14, min_child_weight=1, missing=None, n_estimators=120,\n",
            "       n_jobs=-1, nthread=None, objective='binary:logistic',\n",
            "       random_state=25, reg_alpha=0, reg_lambda=1, scale_pos_weight=1,\n",
            "       seed=None, silent=True, subsample=1)\n"
          ],
          "name": "stdout"
        }
      ]
    },
    {
      "metadata": {
        "id": "-ZFY4LzudAP_",
        "colab_type": "code",
        "colab": {}
      },
      "cell_type": "code",
      "source": [
        "#fitting and predicting through model\n",
        "\n",
        "xgb_clf = xgb.XGBClassifier(max_depth=14,n_estimators=120)\n",
        "\n",
        "xgb_clf.fit(df_final_train,y_train)\n",
        "\n",
        "xgb_clf.fit(df_final_train,y_train)\n",
        "y_train_pred = xgb_clf.predict(df_final_train)\n",
        "y_test_pred = xgb_clf.predict(df_final_test)\n"
      ],
      "execution_count": 0,
      "outputs": []
    },
    {
      "metadata": {
        "id": "h-vhIPcNdAN6",
        "colab_type": "code",
        "outputId": "4639e2de-5008-42ed-c2b1-6386255620f2",
        "colab": {
          "base_uri": "https://localhost:8080/",
          "height": 605
        }
      },
      "cell_type": "code",
      "source": [
        "#confusion matrix\n",
        "print('Train confusion_matrix')\n",
        "plot_confusion_matrix(y_train,y_train_pred)\n",
        "print('Test confusion_matrix')\n",
        "plot_confusion_matrix(y_test,y_test_pred)"
      ],
      "execution_count": 0,
      "outputs": [
        {
          "output_type": "stream",
          "text": [
            "Train confusion_matrix\n"
          ],
          "name": "stdout"
        },
        {
          "output_type": "display_data",
          "data": {
            "image/png": "[encoded data removed]",
            "text/plain": [
              "<Figure size 1440x288 with 6 Axes>"
            ]
          },
          "metadata": {
            "tags": []
          }
        },
        {
          "output_type": "stream",
          "text": [
            "Test confusion_matrix\n"
          ],
          "name": "stdout"
        },
        {
          "output_type": "display_data",
          "data": {
            "image/png": "[encoded data removed]",
            "text/plain": [
              "<Figure size 1440x288 with 6 Axes>"
            ]
          },
          "metadata": {
            "tags": []
          }
        }
      ]
    },
    {
      "metadata": {
        "id": "_7k9XSqpcpkD",
        "colab_type": "code",
        "outputId": "409a583a-444d-4c6f-ec2e-58edf591aaa5",
        "colab": {
          "base_uri": "https://localhost:8080/",
          "height": 375
        }
      },
      "cell_type": "code",
      "source": [
        "from sklearn.metrics import roc_curve, auc\n",
        "fpr,tpr,ths = roc_curve(y_test,y_test_pred)\n",
        "auc_sc = auc(fpr, tpr)\n",
        "plt.plot(fpr, tpr, color='navy',label='ROC curve (area = %0.2f)' % auc_sc)\n",
        "plt.xlabel('False Positive Rate')\n",
        "plt.ylabel('True Positive Rate')\n",
        "plt.title('Receiver operating characteristic with test data')\n",
        "plt.legend()\n",
        "plt.show()"
      ],
      "execution_count": 0,
      "outputs": [
        {
          "output_type": "display_data",
          "data": {
            "image/png": "[encoded data removed]",
            "text/plain": [
              "<Figure size 576x396 with 1 Axes>"
            ]
          },
          "metadata": {
            "tags": []
          }
        }
      ]
    },
    {
      "metadata": {
        "id": "puJYCBzegtuS",
        "colab_type": "text"
      },
      "cell_type": "markdown",
      "source": [
        "#### Feature importance"
      ]
    },
    {
      "metadata": {
        "id": "utIHVSIjcptE",
        "colab_type": "code",
        "outputId": "ec989ca7-6499-4d9c-8f7e-efe835e1a2e7",
        "colab": {
          "base_uri": "https://localhost:8080/",
          "height": 891
        }
      },
      "cell_type": "code",
      "source": [
        "#Feature importance\n",
        "features = df_final_train.columns\n",
        "importances = xgb_clf.feature_importances_\n",
        "indices = (np.argsort(importances))[-70:]\n",
        "plt.figure(figsize=(15,15))\n",
        "plt.title('Feature Importances')\n",
        "plt.barh(range(len(indices)), importances[indices], color='r', align='center')\n",
        "plt.yticks(range(len(indices)), [features[i] for i in indices])\n",
        "plt.xlabel('Relative Importance')\n",
        "plt.show()"
      ],
      "execution_count": 0,
      "outputs": [
        {
          "output_type": "display_data",
          "data": {
            "image/png": "[encoded data removed]",
            "text/plain": [
              "<Figure size 1080x1080 with 1 Axes>"
            ]
          },
          "metadata": {
            "tags": []
          }
        }
      ]
    },
    {
      "metadata": {
        "id": "bRjCRKq1gxeR",
        "colab_type": "text"
      },
      "cell_type": "markdown",
      "source": [
        "## Conclution"
      ]
    },
    {
      "metadata": {
        "id": "5oS6pcC5gw0p",
        "colab_type": "code",
        "outputId": "d6890ce9-5ff7-4783-9dd5-8748a628c8ba",
        "colab": {
          "base_uri": "https://localhost:8080/",
          "height": 123
        }
      },
      "cell_type": "code",
      "source": [
        "from prettytable import PrettyTable\n",
        "    \n",
        "x = PrettyTable([\"Sno\", \"Model\",\"Scoring\",\"Accuracy\",\"Precision\",\"Recall\",\"F1-Score\"])\n",
        "\n",
        "x.add_row([\" 1. \",\"Random Forest\",\"f1\",\"92.94%\" ,\"97.52%\",\"88.09%\",\"92.57%\"])\n",
        "\n",
        "x.add_row([\" 2. \",\"XG Boost\",\"f1\",\"93.08%\" ,\"98.53%\",\"87.44%\",\"92.65%\"])\n",
        "\n",
        "\n",
        "print(x.get_string(title=\" PrettyTable \"))"
      ],
      "execution_count": 0,
      "outputs": [
        {
          "output_type": "stream",
          "text": [
            "+------+---------------+---------+----------+-----------+--------+----------+\n",
            "| Sno  |     Model     | Scoring | Accuracy | Precision | Recall | F1-Score |\n",
            "+------+---------------+---------+----------+-----------+--------+----------+\n",
            "|  1.  | Random Forest |    f1   |  92.94%  |   97.52%  | 88.09% |  92.57%  |\n",
            "|  2.  |    XG Boost   |    f1   |  93.08%  |   98.53%  | 87.44% |  92.65%  |\n",
            "+------+---------------+---------+----------+-----------+--------+----------+\n"
          ],
          "name": "stdout"
        }
      ]
    },
    {
      "metadata": {
        "id": "DKVP7Jb93tMV",
        "colab_type": "text"
      },
      "cell_type": "markdown",
      "source": [
        "#####1. XG Boost shows best performance.\n",
        "\n",
        "\n",
        "#####2. We have added Preferential Attachment feature , it shows great result in linking nodes.\n",
        "\n",
        "\n",
        "#####3. SVD DOT features also played  good role we can see in feature importance graph.\n",
        "\n",
        "\n",
        "#####Steps for solving this approch:\n",
        "\n",
        "\n",
        "#####1. Fislty we must perform finest EDA on raw data, so that we could get simple or filtered data for processing.\n",
        "\n",
        "\n",
        "#####2. After EDA we should perform all basics algos related to graph theory and pridictions. like we have used \n",
        "\n",
        "      a)Follow back well scroed\n",
        "      \n",
        "      b)Cosine followers also well.\n",
        "      \n",
        "      c)SVD is also perform well \n",
        "      \n",
        "      d)Shortest path. etc etc   \n",
        "      \n",
        "      \n",
        "#####3. After going through all basics algo test them in best classifier like Random forest or Xgboost, we have done both random forest and xgboost where xgboost stood best .\n",
        "    \n",
        "    \n",
        "#####4. After modeling it will give feature importance by which we came to know which algo is best and worst.\n",
        "\n",
        "    So on random forest(best algo):\n",
        "    \n",
        "      a) follow back\n",
        "        \n",
        "      b) weight\n",
        "       \n",
        "      c) Shortest path\n",
        "      \n",
        "      d) cosine followers\n",
        "      \n",
        "     So on Xgboost(best algo):\n",
        "     \n",
        "     a)Page rank\n",
        "     \n",
        "     b)SVD\n",
        "     \n",
        "     c)Katz\n",
        "     \n",
        "     d)Hits Score\n",
        "     \n",
        "#####5. At the end i will conclude XgBoost gives best results for this type of approch.\n",
        "     \n",
        "     \n",
        "     \n",
        "      \n",
        "\n",
        "                                                                  ---xxx----"
      ]
    }
  ]
}